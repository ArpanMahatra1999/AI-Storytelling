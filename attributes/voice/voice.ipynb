{
 "cells": [
  {
   "cell_type": "code",
   "execution_count": 1,
   "id": "0a9e6b76-b1cd-44ff-aee7-f15030e514e9",
   "metadata": {},
   "outputs": [],
   "source": [
    "# basic libraries\n",
    "import pandas as pd"
   ]
  },
  {
   "cell_type": "code",
   "execution_count": 2,
   "id": "bedfdef2-ccd4-453d-a7b7-455f1e405380",
   "metadata": {},
   "outputs": [],
   "source": [
    "# ignore warnings\n",
    "import warnings\n",
    "warnings.filterwarnings('ignore')"
   ]
  },
  {
   "cell_type": "code",
   "execution_count": 3,
   "id": "7a5ed1e5-9c3b-49b4-8e2b-395b1c84cac7",
   "metadata": {},
   "outputs": [],
   "source": [
    "# emotion detection libraries\n",
    "from transformers import pipeline"
   ]
  },
  {
   "cell_type": "markdown",
   "id": "3475a49f-40ba-4030-a4d0-5ab5bf14f6c0",
   "metadata": {},
   "source": [
    "### Dataframes Defining"
   ]
  },
  {
   "cell_type": "code",
   "execution_count": null,
   "id": "6c113633-3bf4-4c32-bca1-3e3d25f01fb9",
   "metadata": {},
   "outputs": [],
   "source": [
    "# define dataframes from csvs\n",
    "dfm = pd.read_csv(\"male_dialogues.csv\")\n",
    "dff = pd.read_csv(\"female_dialogues.csv\")"
   ]
  },
  {
   "cell_type": "code",
   "execution_count": null,
   "id": "1dfd8d98-5642-48e7-84a8-aa75c296cb31",
   "metadata": {},
   "outputs": [],
   "source": [
    "# top 10 male rows\n",
    "dfm.head(10)"
   ]
  },
  {
   "cell_type": "code",
   "execution_count": null,
   "id": "fa07b192-46e6-430f-82eb-b0365719d164",
   "metadata": {},
   "outputs": [],
   "source": [
    "# top 10 female rows\n",
    "dff.head(10)"
   ]
  },
  {
   "cell_type": "markdown",
   "id": "0eeb9f48-f469-467c-9658-4fe1e6565c80",
   "metadata": {},
   "source": [
    "## 1. Emotions Detection"
   ]
  },
  {
   "cell_type": "code",
   "execution_count": null,
   "id": "b8e217d1-89c0-45e4-9d43-2ba04ae11750",
   "metadata": {},
   "outputs": [],
   "source": [
    "# creating emotion detection classifier\n",
    "ed_classifier = pipeline(\"text-classification\", model=\"j-hartmann/emotion-english-distilroberta-base\", return_all_scores=True)"
   ]
  },
  {
   "cell_type": "code",
   "execution_count": null,
   "id": "f03b39ad-66da-4aea-9bbc-06c65cecfe94",
   "metadata": {},
   "outputs": [],
   "source": [
    "# function to return better dictionary\n",
    "def show_emotions(dialogue):\n",
    "    emotions_dict = dict()\n",
    "    edc = ed_classifier(dialogue)\n",
    "    for x in edc[0]:\n",
    "        emotions_dict[x['label']] = x['score']\n",
    "    return emotions_dict"
   ]
  },
  {
   "cell_type": "code",
   "execution_count": null,
   "id": "801fcc33-e529-4a72-9906-c7390d163f73",
   "metadata": {},
   "outputs": [],
   "source": [
    "# using ed_classifier for showing emotions for each dialogue for male\n",
    "dfm['anger'], dfm['disgust'], dfm['fear'], dfm['joy'], dfm['neutral'], dfm['sadness'], dfm['surprise'] = None, None, None, None, None, None, None\n",
    "dfm[['anger', 'disgust', 'fear', 'joy', 'neutral', 'sadness', 'surprise']] = dfm['dialogue'].apply(lambda x: list(show_emotions(x).values()) if x is not None else [None, None, None, None, None, None, None]).tolist()"
   ]
  },
  {
   "cell_type": "code",
   "execution_count": null,
   "id": "1641ba99-5ff4-4127-8b27-ffbbd0027130",
   "metadata": {},
   "outputs": [],
   "source": [
    "# using ed_classifier for showing emotions for each dialogue for female\n",
    "dff['anger'], dff['disgust'], dff['fear'], dff['joy'], dff['neutral'], dff['sadness'], dff['surprise'] = None, None, None, None, None, None, None\n",
    "dff[['anger', 'disgust', 'fear', 'joy', 'neutral', 'sadness', 'surprise']] = dff['dialogue'].apply(lambda x: list(show_emotions(x).values()) if x is not None else [None, None, None, None, None, None, None]).tolist()"
   ]
  },
  {
   "cell_type": "code",
   "execution_count": 4,
   "id": "9c0fe51a-bc95-4ede-a19d-ce1f1511daac",
   "metadata": {},
   "outputs": [
    {
     "ename": "NameError",
     "evalue": "name 'dfm' is not defined",
     "output_type": "error",
     "traceback": [
      "\u001b[1;31m---------------------------------------------------------------------------\u001b[0m",
      "\u001b[1;31mNameError\u001b[0m                                 Traceback (most recent call last)",
      "Cell \u001b[1;32mIn[4], line 2\u001b[0m\n\u001b[0;32m      1\u001b[0m \u001b[38;5;66;03m# bottom 10 male rows\u001b[39;00m\n\u001b[1;32m----> 2\u001b[0m dfm\u001b[38;5;241m.\u001b[39mtail(\u001b[38;5;241m10\u001b[39m)\n",
      "\u001b[1;31mNameError\u001b[0m: name 'dfm' is not defined"
     ]
    }
   ],
   "source": [
    "# bottom 10 male rows\n",
    "dfm.tail(10)"
   ]
  },
  {
   "cell_type": "code",
   "execution_count": 15,
   "id": "c279364f-56c6-475f-abd6-ef96b1f29457",
   "metadata": {},
   "outputs": [
    {
     "data": {
      "text/html": [
       "<div>\n",
       "<style scoped>\n",
       "    .dataframe tbody tr th:only-of-type {\n",
       "        vertical-align: middle;\n",
       "    }\n",
       "\n",
       "    .dataframe tbody tr th {\n",
       "        vertical-align: top;\n",
       "    }\n",
       "\n",
       "    .dataframe thead th {\n",
       "        text-align: right;\n",
       "    }\n",
       "</style>\n",
       "<table border=\"1\" class=\"dataframe\">\n",
       "  <thead>\n",
       "    <tr style=\"text-align: right;\">\n",
       "      <th></th>\n",
       "      <th>dialogue</th>\n",
       "      <th>anger</th>\n",
       "      <th>disgust</th>\n",
       "      <th>fear</th>\n",
       "      <th>joy</th>\n",
       "      <th>neutral</th>\n",
       "      <th>sadness</th>\n",
       "      <th>surprise</th>\n",
       "    </tr>\n",
       "  </thead>\n",
       "  <tbody>\n",
       "    <tr>\n",
       "      <th>525</th>\n",
       "      <td>What's your go-to comfort food that brings a s...</td>\n",
       "      <td>0.004991</td>\n",
       "      <td>0.005184</td>\n",
       "      <td>0.003333</td>\n",
       "      <td>0.065286</td>\n",
       "      <td>0.864042</td>\n",
       "      <td>0.011164</td>\n",
       "      <td>0.046000</td>\n",
       "    </tr>\n",
       "    <tr>\n",
       "      <th>526</th>\n",
       "      <td>Life's a puzzle; what's one piece you're excit...</td>\n",
       "      <td>0.008421</td>\n",
       "      <td>0.001859</td>\n",
       "      <td>0.007471</td>\n",
       "      <td>0.034418</td>\n",
       "      <td>0.822436</td>\n",
       "      <td>0.005137</td>\n",
       "      <td>0.120259</td>\n",
       "    </tr>\n",
       "    <tr>\n",
       "      <th>527</th>\n",
       "      <td>Why do we find inspiration in the stories of i...</td>\n",
       "      <td>0.018378</td>\n",
       "      <td>0.006837</td>\n",
       "      <td>0.010782</td>\n",
       "      <td>0.009754</td>\n",
       "      <td>0.801782</td>\n",
       "      <td>0.004048</td>\n",
       "      <td>0.148419</td>\n",
       "    </tr>\n",
       "    <tr>\n",
       "      <th>528</th>\n",
       "      <td>What's your personal mantra for maintaining a ...</td>\n",
       "      <td>0.014632</td>\n",
       "      <td>0.008207</td>\n",
       "      <td>0.012878</td>\n",
       "      <td>0.006906</td>\n",
       "      <td>0.930178</td>\n",
       "      <td>0.003927</td>\n",
       "      <td>0.023271</td>\n",
       "    </tr>\n",
       "    <tr>\n",
       "      <th>529</th>\n",
       "      <td>What's your favorite way to celebrate personal...</td>\n",
       "      <td>0.032337</td>\n",
       "      <td>0.019792</td>\n",
       "      <td>0.002410</td>\n",
       "      <td>0.084997</td>\n",
       "      <td>0.786980</td>\n",
       "      <td>0.004245</td>\n",
       "      <td>0.069239</td>\n",
       "    </tr>\n",
       "    <tr>\n",
       "      <th>530</th>\n",
       "      <td>Have you ever had a moment when a seemingly sm...</td>\n",
       "      <td>0.013374</td>\n",
       "      <td>0.013301</td>\n",
       "      <td>0.026422</td>\n",
       "      <td>0.021039</td>\n",
       "      <td>0.172168</td>\n",
       "      <td>0.003017</td>\n",
       "      <td>0.750679</td>\n",
       "    </tr>\n",
       "    <tr>\n",
       "      <th>531</th>\n",
       "      <td>What's your go-to method for finding joy in th...</td>\n",
       "      <td>0.014713</td>\n",
       "      <td>0.004754</td>\n",
       "      <td>0.008325</td>\n",
       "      <td>0.231575</td>\n",
       "      <td>0.657582</td>\n",
       "      <td>0.010721</td>\n",
       "      <td>0.072331</td>\n",
       "    </tr>\n",
       "    <tr>\n",
       "      <th>532</th>\n",
       "      <td>Ever notice how a well-chosen quote or saying ...</td>\n",
       "      <td>0.008546</td>\n",
       "      <td>0.006236</td>\n",
       "      <td>0.007022</td>\n",
       "      <td>0.020374</td>\n",
       "      <td>0.347734</td>\n",
       "      <td>0.004719</td>\n",
       "      <td>0.605370</td>\n",
       "    </tr>\n",
       "    <tr>\n",
       "      <th>533</th>\n",
       "      <td>Life's an ongoing project; what's one aspect o...</td>\n",
       "      <td>0.008393</td>\n",
       "      <td>0.005729</td>\n",
       "      <td>0.012985</td>\n",
       "      <td>0.013205</td>\n",
       "      <td>0.901940</td>\n",
       "      <td>0.019885</td>\n",
       "      <td>0.037863</td>\n",
       "    </tr>\n",
       "    <tr>\n",
       "      <th>534</th>\n",
       "      <td>What's your personal anthem for facing challen...</td>\n",
       "      <td>0.011758</td>\n",
       "      <td>0.004846</td>\n",
       "      <td>0.014838</td>\n",
       "      <td>0.018897</td>\n",
       "      <td>0.913206</td>\n",
       "      <td>0.004829</td>\n",
       "      <td>0.031625</td>\n",
       "    </tr>\n",
       "  </tbody>\n",
       "</table>\n",
       "</div>"
      ],
      "text/plain": [
       "                                              dialogue     anger   disgust  \\\n",
       "525  What's your go-to comfort food that brings a s...  0.004991  0.005184   \n",
       "526  Life's a puzzle; what's one piece you're excit...  0.008421  0.001859   \n",
       "527  Why do we find inspiration in the stories of i...  0.018378  0.006837   \n",
       "528  What's your personal mantra for maintaining a ...  0.014632  0.008207   \n",
       "529  What's your favorite way to celebrate personal...  0.032337  0.019792   \n",
       "530  Have you ever had a moment when a seemingly sm...  0.013374  0.013301   \n",
       "531  What's your go-to method for finding joy in th...  0.014713  0.004754   \n",
       "532  Ever notice how a well-chosen quote or saying ...  0.008546  0.006236   \n",
       "533  Life's an ongoing project; what's one aspect o...  0.008393  0.005729   \n",
       "534  What's your personal anthem for facing challen...  0.011758  0.004846   \n",
       "\n",
       "         fear       joy   neutral   sadness  surprise  \n",
       "525  0.003333  0.065286  0.864042  0.011164  0.046000  \n",
       "526  0.007471  0.034418  0.822436  0.005137  0.120259  \n",
       "527  0.010782  0.009754  0.801782  0.004048  0.148419  \n",
       "528  0.012878  0.006906  0.930178  0.003927  0.023271  \n",
       "529  0.002410  0.084997  0.786980  0.004245  0.069239  \n",
       "530  0.026422  0.021039  0.172168  0.003017  0.750679  \n",
       "531  0.008325  0.231575  0.657582  0.010721  0.072331  \n",
       "532  0.007022  0.020374  0.347734  0.004719  0.605370  \n",
       "533  0.012985  0.013205  0.901940  0.019885  0.037863  \n",
       "534  0.014838  0.018897  0.913206  0.004829  0.031625  "
      ]
     },
     "execution_count": 15,
     "metadata": {},
     "output_type": "execute_result"
    }
   ],
   "source": [
    "# bottom 10 female rows\n",
    "dff.tail(10)"
   ]
  },
  {
   "cell_type": "markdown",
   "id": "19bd9d12-3a46-4310-b38e-b99e673e9997",
   "metadata": {},
   "source": [
    "## 2. Export Dataframes with Emotions"
   ]
  },
  {
   "cell_type": "code",
   "execution_count": 16,
   "id": "86ade020-e953-4162-8b76-72c15a9df05d",
   "metadata": {},
   "outputs": [],
   "source": [
    "# export dialogues with emotions csv files\n",
    "dfm.to_csv(\"male_dialogues.csv\", index=False)\n",
    "dff.to_csv(\"female_dialogues.csv\", index=False)"
   ]
  },
  {
   "cell_type": "code",
   "execution_count": null,
   "id": "6e31e7da-af71-4a38-b41f-e31be8e83c39",
   "metadata": {},
   "outputs": [],
   "source": []
  }
 ],
 "metadata": {
  "kernelspec": {
   "display_name": "Python 3 (ipykernel)",
   "language": "python",
   "name": "python3"
  },
  "language_info": {
   "codemirror_mode": {
    "name": "ipython",
    "version": 3
   },
   "file_extension": ".py",
   "mimetype": "text/x-python",
   "name": "python",
   "nbconvert_exporter": "python",
   "pygments_lexer": "ipython3",
   "version": "3.9.0"
  }
 },
 "nbformat": 4,
 "nbformat_minor": 5
}
