{
 "cells": [
  {
   "cell_type": "markdown",
   "id": "5b944a9b-09b4-489e-b750-fbc1b5f95ded",
   "metadata": {},
   "source": [
    "## Import Libraries"
   ]
  },
  {
   "cell_type": "code",
   "execution_count": 1,
   "id": "a987006b-643b-4910-bec0-efd247e31f3d",
   "metadata": {},
   "outputs": [],
   "source": [
    "# basic libraries\n",
    "import re\n",
    "import pandas as pd"
   ]
  },
  {
   "cell_type": "code",
   "execution_count": 43,
   "id": "5938da40-4fd5-413d-9e31-50edc4141b58",
   "metadata": {},
   "outputs": [
    {
     "name": "stderr",
     "output_type": "stream",
     "text": [
      "[nltk_data] Downloading package wordnet to\n",
      "[nltk_data]     C:\\Users\\arpan\\AppData\\Roaming\\nltk_data...\n",
      "[nltk_data]   Package wordnet is already up-to-date!\n",
      "[nltk_data] Downloading package stopwords to\n",
      "[nltk_data]     C:\\Users\\arpan\\AppData\\Roaming\\nltk_data...\n",
      "[nltk_data]   Package stopwords is already up-to-date!\n"
     ]
    }
   ],
   "source": [
    "# nlp libraries\n",
    "import nltk\n",
    "nltk.download('wordnet')\n",
    "nltk.download(\"stopwords\")\n",
    "from nltk.corpus import stopwords, wordnet\n",
    "from nltk.stem import WordNetLemmatizer"
   ]
  },
  {
   "cell_type": "code",
   "execution_count": 91,
   "id": "65e9bf29-7529-47eb-ba5c-6d4ba9bed8bd",
   "metadata": {},
   "outputs": [],
   "source": [
    "# machine learning libraries\n",
    "from sklearn.feature_extraction.text import CountVectorizer\n",
    "from sklearn.model_selection import train_test_split\n",
    "from sklearn.naive_bayes import GaussianNB\n",
    "from sklearn.metrics import accuracy_score"
   ]
  },
  {
   "cell_type": "code",
   "execution_count": 95,
   "id": "a363446b-6f3f-4268-87cb-6cd596a8888f",
   "metadata": {},
   "outputs": [],
   "source": [
    "# other libraries\n",
    "import joblib"
   ]
  },
  {
   "cell_type": "markdown",
   "id": "88e004e9-8be9-4255-a3c1-e341811d95cb",
   "metadata": {},
   "source": [
    "## Dataframes Defining"
   ]
  },
  {
   "cell_type": "code",
   "execution_count": 35,
   "id": "fcd5d68f-ebbc-455e-955e-7fd162e4eb98",
   "metadata": {},
   "outputs": [],
   "source": [
    "# read csv file\n",
    "df = pd.read_csv(\"gender_dialogues.csv\")"
   ]
  },
  {
   "cell_type": "code",
   "execution_count": 36,
   "id": "40869c18-cc0d-4aa9-92a1-ca93ae564601",
   "metadata": {},
   "outputs": [
    {
     "data": {
      "text/html": [
       "<div>\n",
       "<style scoped>\n",
       "    .dataframe tbody tr th:only-of-type {\n",
       "        vertical-align: middle;\n",
       "    }\n",
       "\n",
       "    .dataframe tbody tr th {\n",
       "        vertical-align: top;\n",
       "    }\n",
       "\n",
       "    .dataframe thead th {\n",
       "        text-align: right;\n",
       "    }\n",
       "</style>\n",
       "<table border=\"1\" class=\"dataframe\">\n",
       "  <thead>\n",
       "    <tr style=\"text-align: right;\">\n",
       "      <th></th>\n",
       "      <th>Gender</th>\n",
       "      <th>Dialogue</th>\n",
       "    </tr>\n",
       "  </thead>\n",
       "  <tbody>\n",
       "    <tr>\n",
       "      <th>0</th>\n",
       "      <td>Female</td>\n",
       "      <td>I can't believe he stood me up again.</td>\n",
       "    </tr>\n",
       "    <tr>\n",
       "      <th>1</th>\n",
       "      <td>Male</td>\n",
       "      <td>I've been working on this car all weekend.</td>\n",
       "    </tr>\n",
       "    <tr>\n",
       "      <th>2</th>\n",
       "      <td>Female</td>\n",
       "      <td>I wish I could find the perfect pair of shoes.</td>\n",
       "    </tr>\n",
       "    <tr>\n",
       "      <th>3</th>\n",
       "      <td>Male</td>\n",
       "      <td>I can't wait for the next game; it's gonna be ...</td>\n",
       "    </tr>\n",
       "    <tr>\n",
       "      <th>4</th>\n",
       "      <td>Female</td>\n",
       "      <td>Why is it so hard to find good chocolate?</td>\n",
       "    </tr>\n",
       "    <tr>\n",
       "      <th>5</th>\n",
       "      <td>Male</td>\n",
       "      <td>I need to hit the gym; these workouts are tough.</td>\n",
       "    </tr>\n",
       "    <tr>\n",
       "      <th>6</th>\n",
       "      <td>Female</td>\n",
       "      <td>Girls' night out is exactly what I need.</td>\n",
       "    </tr>\n",
       "    <tr>\n",
       "      <th>7</th>\n",
       "      <td>Male</td>\n",
       "      <td>I love the smell of a good barbecue.</td>\n",
       "    </tr>\n",
       "    <tr>\n",
       "      <th>8</th>\n",
       "      <td>Female</td>\n",
       "      <td>I wish I could eat dessert every day.</td>\n",
       "    </tr>\n",
       "    <tr>\n",
       "      <th>9</th>\n",
       "      <td>Male</td>\n",
       "      <td>I've been binge-watching this new series.</td>\n",
       "    </tr>\n",
       "  </tbody>\n",
       "</table>\n",
       "</div>"
      ],
      "text/plain": [
       "   Gender                                           Dialogue\n",
       "0  Female              I can't believe he stood me up again.\n",
       "1    Male         I've been working on this car all weekend.\n",
       "2  Female     I wish I could find the perfect pair of shoes.\n",
       "3    Male  I can't wait for the next game; it's gonna be ...\n",
       "4  Female          Why is it so hard to find good chocolate?\n",
       "5    Male   I need to hit the gym; these workouts are tough.\n",
       "6  Female           Girls' night out is exactly what I need.\n",
       "7    Male               I love the smell of a good barbecue.\n",
       "8  Female              I wish I could eat dessert every day.\n",
       "9    Male          I've been binge-watching this new series."
      ]
     },
     "execution_count": 36,
     "metadata": {},
     "output_type": "execute_result"
    }
   ],
   "source": [
    "# top 10 rows\n",
    "df.head(10)"
   ]
  },
  {
   "cell_type": "code",
   "execution_count": 37,
   "id": "3a8720f2-43d1-4e6d-ac1b-1f0d4f96eb78",
   "metadata": {},
   "outputs": [],
   "source": [
    "# defining stopwords set and lemma\n",
    "set_of_stopwords = set(stopwords.words(\"english\"))\n",
    "lemma = WordNetLemmatizer()"
   ]
  },
  {
   "cell_type": "code",
   "execution_count": 38,
   "id": "5f3c279f-9722-4050-85b2-ac9aab50b66f",
   "metadata": {},
   "outputs": [],
   "source": [
    "# function to remove contractions and replace by spaces\n",
    "def remove_contractions(text):\n",
    "\n",
    "    contractions = [\"ain't\", \"aren't\", \"can't\", \"can't've\", \"'cause\", \"could've\", \"couldn't\", \"couldn't've\", \"didn't\", \"doesn't\", \"don't\",\n",
    "                    \"hadn't\", \"hadn't've\", \"hasn't\", \"haven't\", \"he'd\", \"he'd've\", \"he'll\", \"he'll've\", \"he's\", \"how'd\", \"how'd'y\", \"how'll\", \"how's\",\n",
    "                    \"I'd\", \"I'd've\", \"I'll\", \"I'll've\", \"I'm\", \"I've\", \"isn't\", \"it'd\", \"it'd've\", \"it'll\", \"it'll've\", \"it's\", \"let's\",\n",
    "                    \"ma'am\", \"mayn't\", \"might've\", \"mightn't\", \"mightn't've\", \"must've\", \"mustn't\", \"mustn't've\", \"needn't\", \"needn't've\",\n",
    "                    \"o'clock\", \"oughtn't\", \"oughtn't've\", \"shan't\", \"sha'n't\", \"shan't've\", \"she'd\", \"she'd've\", \"she'll\", \"she'll've\", \"she's\",\n",
    "                    \"should've\", \"shouldn't\", \"shouldn't've\", \"so've\", \"so's\", \"that'd\", \"that'd've\", \"that's\", \"there'd\", \"there'd've\", \"there's\",\n",
    "                    \"they'd\", \"they'd've\", \"they'll\", \"they'll've\", \"they're\", \"they've\", \"to've\", \"wasn't\",\n",
    "                    \"we'd\", \"we'd've\", \"we'll\", \"we'll've\", \"we're\", \"we've\", \"weren't\", \"what'll\", \"what'll've\", \"what're\", \"what's\", \"what've\",\n",
    "                    \"when's\", \"when've\", \"where'd\", \"where's\", \"where've\", \"who'll\", \"who'll've\", \"who's\", \"who've\", \"why's\", \"why've\",\n",
    "                    \"will've\", \"won't\", \"won't've\", \"would've\", \"wouldn't\", \"wouldn't've\", \"y'all\", \"y'all'd\", \"y'all'd've\", \"y'all're\", \"y'all've\",\n",
    "                    \"you'd\", \"you'd've\", \"you'll\", \"you'll've\", \"you're\", \"you've\", \"gonna\"]\n",
    "\n",
    "    for contraction in contractions:\n",
    "        text = text.replace(contraction, \" \")\n",
    "\n",
    "    return text"
   ]
  },
  {
   "cell_type": "code",
   "execution_count": 39,
   "id": "edd22fa1-fe02-4353-9c23-56f1359e2604",
   "metadata": {},
   "outputs": [],
   "source": [
    "# function to remove punctuations\n",
    "def remove_punctuations(text):\n",
    "    text = re.sub(r'[^\\w\\s]', '', text)\n",
    "    return text"
   ]
  },
  {
   "cell_type": "code",
   "execution_count": 70,
   "id": "7d30fd82-27ba-4363-b242-02c209b47147",
   "metadata": {},
   "outputs": [],
   "source": [
    "# function to check noun\n",
    "def is_noun(word):\n",
    "    synsets = wordnet.synsets(word)\n",
    "    for synset in synsets:\n",
    "        if synset.pos() == 'n':\n",
    "            return True\n",
    "    return False"
   ]
  },
  {
   "cell_type": "code",
   "execution_count": 76,
   "id": "64487804-5bbb-4c6b-8e64-39147586c87c",
   "metadata": {},
   "outputs": [],
   "source": [
    "# dialogue to cleaned dialogue\n",
    "def cleaned_dialogue(text):\n",
    "    if text is None:\n",
    "        return None\n",
    "    contractionless_text = remove_contractions(text)\n",
    "    punctuationless_text = remove_punctuations(contractionless_text)\n",
    "    tokens = nltk.word_tokenize(punctuationless_text)\n",
    "    filtered_words = [token.lower() for token in tokens if token.lower() not in set_of_stopwords]\n",
    "    lemmatized_words = [lemma.lemmatize(word) for word in filtered_words]\n",
    "    words = [word for word in lemmatized_words if is_noun(word)]\n",
    "    return ' '.join(words)"
   ]
  },
  {
   "cell_type": "code",
   "execution_count": 77,
   "id": "d81d9969-2b70-4bed-88dc-c5775af5d73e",
   "metadata": {},
   "outputs": [],
   "source": [
    "# list of words for dialogue\n",
    "dialogue_list = []\n",
    "for dialogue in df.Dialogue:\n",
    "    dialogue_list.append(cleaned_dialogue(dialogue))\n",
    "df['Cleaned Dialogue'] = dialogue_list"
   ]
  },
  {
   "cell_type": "code",
   "execution_count": 98,
   "id": "3ae59fb4-396e-4a68-8f29-ad46989915e5",
   "metadata": {},
   "outputs": [
    {
     "data": {
      "text/html": [
       "<div>\n",
       "<style scoped>\n",
       "    .dataframe tbody tr th:only-of-type {\n",
       "        vertical-align: middle;\n",
       "    }\n",
       "\n",
       "    .dataframe tbody tr th {\n",
       "        vertical-align: top;\n",
       "    }\n",
       "\n",
       "    .dataframe thead th {\n",
       "        text-align: right;\n",
       "    }\n",
       "</style>\n",
       "<table border=\"1\" class=\"dataframe\">\n",
       "  <thead>\n",
       "    <tr style=\"text-align: right;\">\n",
       "      <th></th>\n",
       "      <th>Gender</th>\n",
       "      <th>Dialogue</th>\n",
       "      <th>Cleaned Dialogue</th>\n",
       "    </tr>\n",
       "  </thead>\n",
       "  <tbody>\n",
       "    <tr>\n",
       "      <th>540</th>\n",
       "      <td>Female</td>\n",
       "      <td>The fragrance of blooming flowers uplifts my s...</td>\n",
       "      <td>fragrance blooming flower uplift spirit</td>\n",
       "    </tr>\n",
       "    <tr>\n",
       "      <th>541</th>\n",
       "      <td>Male</td>\n",
       "      <td>Learning about astronomy deepens my appreciati...</td>\n",
       "      <td>learning astronomy appreciation cosmos</td>\n",
       "    </tr>\n",
       "    <tr>\n",
       "      <th>542</th>\n",
       "      <td>Female</td>\n",
       "      <td>I enjoy the challenge of solving challenging S...</td>\n",
       "      <td>challenge solving sudoku puzzle</td>\n",
       "    </tr>\n",
       "    <tr>\n",
       "      <th>543</th>\n",
       "      <td>Male</td>\n",
       "      <td>Sailing on calm waters brings a sense of freed...</td>\n",
       "      <td>sailing calm water sense freedom peace</td>\n",
       "    </tr>\n",
       "    <tr>\n",
       "      <th>544</th>\n",
       "      <td>Female</td>\n",
       "      <td>I find joy in exploring local farmers' markets...</td>\n",
       "      <td>find joy local farmer market weekend</td>\n",
       "    </tr>\n",
       "    <tr>\n",
       "      <th>545</th>\n",
       "      <td>Male</td>\n",
       "      <td>DIY home improvement projects allow me to unle...</td>\n",
       "      <td>home improvement project creativity</td>\n",
       "    </tr>\n",
       "    <tr>\n",
       "      <th>546</th>\n",
       "      <td>Female</td>\n",
       "      <td>The aroma of a bakery on a Sunday morning is i...</td>\n",
       "      <td>aroma bakery sunday morning</td>\n",
       "    </tr>\n",
       "    <tr>\n",
       "      <th>547</th>\n",
       "      <td>Male</td>\n",
       "      <td>Playing chess is a mental workout that I thoro...</td>\n",
       "      <td>playing chess workout</td>\n",
       "    </tr>\n",
       "    <tr>\n",
       "      <th>548</th>\n",
       "      <td>Male</td>\n",
       "      <td>Urban photography allows me to capture the ess...</td>\n",
       "      <td>photography capture essence city life</td>\n",
       "    </tr>\n",
       "    <tr>\n",
       "      <th>549</th>\n",
       "      <td>Female</td>\n",
       "      <td>I love the feeling of grass beneath my feet in...</td>\n",
       "      <td>love feeling grass foot park</td>\n",
       "    </tr>\n",
       "  </tbody>\n",
       "</table>\n",
       "</div>"
      ],
      "text/plain": [
       "     Gender                                           Dialogue  \\\n",
       "540  Female  The fragrance of blooming flowers uplifts my s...   \n",
       "541    Male  Learning about astronomy deepens my appreciati...   \n",
       "542  Female  I enjoy the challenge of solving challenging S...   \n",
       "543    Male  Sailing on calm waters brings a sense of freed...   \n",
       "544  Female  I find joy in exploring local farmers' markets...   \n",
       "545    Male  DIY home improvement projects allow me to unle...   \n",
       "546  Female  The aroma of a bakery on a Sunday morning is i...   \n",
       "547    Male  Playing chess is a mental workout that I thoro...   \n",
       "548    Male  Urban photography allows me to capture the ess...   \n",
       "549  Female  I love the feeling of grass beneath my feet in...   \n",
       "\n",
       "                            Cleaned Dialogue  \n",
       "540  fragrance blooming flower uplift spirit  \n",
       "541   learning astronomy appreciation cosmos  \n",
       "542          challenge solving sudoku puzzle  \n",
       "543   sailing calm water sense freedom peace  \n",
       "544     find joy local farmer market weekend  \n",
       "545      home improvement project creativity  \n",
       "546              aroma bakery sunday morning  \n",
       "547                    playing chess workout  \n",
       "548    photography capture essence city life  \n",
       "549             love feeling grass foot park  "
      ]
     },
     "execution_count": 98,
     "metadata": {},
     "output_type": "execute_result"
    }
   ],
   "source": [
    "# bottom 10 rows with Cleaned Dialogue\n",
    "df.tail(10)"
   ]
  },
  {
   "cell_type": "markdown",
   "id": "fd3f415a-ba1e-4bab-b6be-ebe84e64d308",
   "metadata": {},
   "source": [
    "## Count Vectorizer"
   ]
  },
  {
   "cell_type": "code",
   "execution_count": 82,
   "id": "cebb71c1-8ebc-4e67-81d7-4701ac32d935",
   "metadata": {},
   "outputs": [],
   "source": [
    "# defining count vectorizer\n",
    "max_features = 5000\n",
    "count_vectorizer = CountVectorizer(max_features = max_features, stop_words = \"english\")"
   ]
  },
  {
   "cell_type": "code",
   "execution_count": 83,
   "id": "3386b71a-fa75-459d-a767-cde1c96bb5b1",
   "metadata": {},
   "outputs": [],
   "source": [
    "# defining sparse matrix\n",
    "sparse_matrix = count_vectorizer.fit_transform(dialogue_list).toarray()"
   ]
  },
  {
   "cell_type": "markdown",
   "id": "6595e4e6-d5df-4eb6-a328-93eca62b9502",
   "metadata": {},
   "source": [
    "## Model Training and Testing"
   ]
  },
  {
   "cell_type": "code",
   "execution_count": 84,
   "id": "7b856839-d947-4c04-b276-08cb9cc3d794",
   "metadata": {},
   "outputs": [],
   "source": [
    "# defining X and y\n",
    "X = sparse_matrix\n",
    "y = df.iloc[:,0].values"
   ]
  },
  {
   "cell_type": "code",
   "execution_count": 86,
   "id": "81008121-f03f-4292-a2d4-c36bd3bcd167",
   "metadata": {},
   "outputs": [],
   "source": [
    "# train test split\n",
    "X_train, X_test, y_train, y_test = train_test_split(X, y, test_size=0.1, random_state=42)"
   ]
  },
  {
   "cell_type": "code",
   "execution_count": 88,
   "id": "a27859f8-d63a-4e7e-9aa9-87a1ac4b8bf1",
   "metadata": {},
   "outputs": [],
   "source": [
    "# defining model\n",
    "model = GaussianNB()"
   ]
  },
  {
   "cell_type": "code",
   "execution_count": 90,
   "id": "cef6403e-4e61-4590-a34b-597cf6c73bf1",
   "metadata": {},
   "outputs": [
    {
     "data": {
      "text/html": [
       "<style>#sk-container-id-1 {color: black;}#sk-container-id-1 pre{padding: 0;}#sk-container-id-1 div.sk-toggleable {background-color: white;}#sk-container-id-1 label.sk-toggleable__label {cursor: pointer;display: block;width: 100%;margin-bottom: 0;padding: 0.3em;box-sizing: border-box;text-align: center;}#sk-container-id-1 label.sk-toggleable__label-arrow:before {content: \"▸\";float: left;margin-right: 0.25em;color: #696969;}#sk-container-id-1 label.sk-toggleable__label-arrow:hover:before {color: black;}#sk-container-id-1 div.sk-estimator:hover label.sk-toggleable__label-arrow:before {color: black;}#sk-container-id-1 div.sk-toggleable__content {max-height: 0;max-width: 0;overflow: hidden;text-align: left;background-color: #f0f8ff;}#sk-container-id-1 div.sk-toggleable__content pre {margin: 0.2em;color: black;border-radius: 0.25em;background-color: #f0f8ff;}#sk-container-id-1 input.sk-toggleable__control:checked~div.sk-toggleable__content {max-height: 200px;max-width: 100%;overflow: auto;}#sk-container-id-1 input.sk-toggleable__control:checked~label.sk-toggleable__label-arrow:before {content: \"▾\";}#sk-container-id-1 div.sk-estimator input.sk-toggleable__control:checked~label.sk-toggleable__label {background-color: #d4ebff;}#sk-container-id-1 div.sk-label input.sk-toggleable__control:checked~label.sk-toggleable__label {background-color: #d4ebff;}#sk-container-id-1 input.sk-hidden--visually {border: 0;clip: rect(1px 1px 1px 1px);clip: rect(1px, 1px, 1px, 1px);height: 1px;margin: -1px;overflow: hidden;padding: 0;position: absolute;width: 1px;}#sk-container-id-1 div.sk-estimator {font-family: monospace;background-color: #f0f8ff;border: 1px dotted black;border-radius: 0.25em;box-sizing: border-box;margin-bottom: 0.5em;}#sk-container-id-1 div.sk-estimator:hover {background-color: #d4ebff;}#sk-container-id-1 div.sk-parallel-item::after {content: \"\";width: 100%;border-bottom: 1px solid gray;flex-grow: 1;}#sk-container-id-1 div.sk-label:hover label.sk-toggleable__label {background-color: #d4ebff;}#sk-container-id-1 div.sk-serial::before {content: \"\";position: absolute;border-left: 1px solid gray;box-sizing: border-box;top: 0;bottom: 0;left: 50%;z-index: 0;}#sk-container-id-1 div.sk-serial {display: flex;flex-direction: column;align-items: center;background-color: white;padding-right: 0.2em;padding-left: 0.2em;position: relative;}#sk-container-id-1 div.sk-item {position: relative;z-index: 1;}#sk-container-id-1 div.sk-parallel {display: flex;align-items: stretch;justify-content: center;background-color: white;position: relative;}#sk-container-id-1 div.sk-item::before, #sk-container-id-1 div.sk-parallel-item::before {content: \"\";position: absolute;border-left: 1px solid gray;box-sizing: border-box;top: 0;bottom: 0;left: 50%;z-index: -1;}#sk-container-id-1 div.sk-parallel-item {display: flex;flex-direction: column;z-index: 1;position: relative;background-color: white;}#sk-container-id-1 div.sk-parallel-item:first-child::after {align-self: flex-end;width: 50%;}#sk-container-id-1 div.sk-parallel-item:last-child::after {align-self: flex-start;width: 50%;}#sk-container-id-1 div.sk-parallel-item:only-child::after {width: 0;}#sk-container-id-1 div.sk-dashed-wrapped {border: 1px dashed gray;margin: 0 0.4em 0.5em 0.4em;box-sizing: border-box;padding-bottom: 0.4em;background-color: white;}#sk-container-id-1 div.sk-label label {font-family: monospace;font-weight: bold;display: inline-block;line-height: 1.2em;}#sk-container-id-1 div.sk-label-container {text-align: center;}#sk-container-id-1 div.sk-container {/* jupyter's `normalize.less` sets `[hidden] { display: none; }` but bootstrap.min.css set `[hidden] { display: none !important; }` so we also need the `!important` here to be able to override the default hidden behavior on the sphinx rendered scikit-learn.org. See: https://github.com/scikit-learn/scikit-learn/issues/21755 */display: inline-block !important;position: relative;}#sk-container-id-1 div.sk-text-repr-fallback {display: none;}</style><div id=\"sk-container-id-1\" class=\"sk-top-container\"><div class=\"sk-text-repr-fallback\"><pre>GaussianNB()</pre><b>In a Jupyter environment, please rerun this cell to show the HTML representation or trust the notebook. <br />On GitHub, the HTML representation is unable to render, please try loading this page with nbviewer.org.</b></div><div class=\"sk-container\" hidden><div class=\"sk-item\"><div class=\"sk-estimator sk-toggleable\"><input class=\"sk-toggleable__control sk-hidden--visually\" id=\"sk-estimator-id-1\" type=\"checkbox\" checked><label for=\"sk-estimator-id-1\" class=\"sk-toggleable__label sk-toggleable__label-arrow\">GaussianNB</label><div class=\"sk-toggleable__content\"><pre>GaussianNB()</pre></div></div></div></div></div>"
      ],
      "text/plain": [
       "GaussianNB()"
      ]
     },
     "execution_count": 90,
     "metadata": {},
     "output_type": "execute_result"
    }
   ],
   "source": [
    "# model fitting\n",
    "model.fit(X_train, y_train)"
   ]
  },
  {
   "cell_type": "code",
   "execution_count": 94,
   "id": "3878ba38-4c26-42ab-bd2f-046669f4851d",
   "metadata": {},
   "outputs": [
    {
     "name": "stdout",
     "output_type": "stream",
     "text": [
      "0.8727272727272727\n"
     ]
    }
   ],
   "source": [
    "# model testing\n",
    "y_predict = model.predict(X_test)\n",
    "print(accuracy_score(y_predict, y_test))"
   ]
  },
  {
   "cell_type": "markdown",
   "id": "69d08c92-b0b8-4452-b0ce-00e2b102ad6f",
   "metadata": {},
   "source": [
    "## Model Saving"
   ]
  },
  {
   "cell_type": "code",
   "execution_count": 97,
   "id": "9584f47d-5151-4641-9c91-efdbe5768331",
   "metadata": {},
   "outputs": [
    {
     "data": {
      "text/plain": [
       "['gender_model.joblib']"
      ]
     },
     "execution_count": 97,
     "metadata": {},
     "output_type": "execute_result"
    }
   ],
   "source": [
    "# saving count vectorizer and Gaussian Naive-Bayes model\n",
    "joblib.dump(count_vectorizer, 'gender_cv.joblib')\n",
    "joblib.dump(model, 'gender_model.joblib')"
   ]
  }
 ],
 "metadata": {
  "kernelspec": {
   "display_name": "Python 3 (ipykernel)",
   "language": "python",
   "name": "python3"
  },
  "language_info": {
   "codemirror_mode": {
    "name": "ipython",
    "version": 3
   },
   "file_extension": ".py",
   "mimetype": "text/x-python",
   "name": "python",
   "nbconvert_exporter": "python",
   "pygments_lexer": "ipython3",
   "version": "3.9.0"
  }
 },
 "nbformat": 4,
 "nbformat_minor": 5
}
