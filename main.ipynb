{
 "cells": [
  {
   "cell_type": "markdown",
   "id": "ae40f825-c843-4462-86ce-7a8d273a1da5",
   "metadata": {},
   "source": [
    "# **AI Storytelling**\n",
    "\n",
    "<img src=\"assets/logo.jpg\" width=\"500\" height=\"300\">\n",
    "\n",
    "This is Natural Language Processing platform that targets on conversion of short stories to audiobooks with features:\n",
    "- characters extraction from text,\n",
    "- voice generation by dialogues, narration and characters,\n",
    "- musical background creation by text,\n",
    "- activities sound generation by lines, and\n",
    "- combination of all above features to create the audiobook.\n",
    "\n",
    "Based on the success of the project, it could be extended with image or video processing features in upcoming days."
   ]
  },
  {
   "cell_type": "markdown",
   "id": "d9ebde27-b693-4ae4-8fbb-2779859d3ee9",
   "metadata": {},
   "source": [
    "### Import Libraries and Functions"
   ]
  },
  {
   "cell_type": "code",
   "execution_count": 1,
   "id": "274ae554-7c39-45ea-ad21-3a8fe63eb609",
   "metadata": {},
   "outputs": [],
   "source": [
    "# basic libraries\n",
    "import os\n",
    "import pandas as pd"
   ]
  },
  {
   "cell_type": "code",
   "execution_count": 2,
   "id": "851f8a25-1e2f-4c63-b249-ffecf61b64b0",
   "metadata": {},
   "outputs": [],
   "source": [
    "# ignore warnings\n",
    "import warnings\n",
    "warnings.filterwarnings('ignore')"
   ]
  },
  {
   "cell_type": "code",
   "execution_count": 3,
   "id": "ff82950a-e67c-443a-a8b3-b554678b0248",
   "metadata": {},
   "outputs": [],
   "source": [
    "# nlp libraries\n",
    "import spacy\n",
    "nlp = spacy.load(\"en_core_web_lg\")"
   ]
  },
  {
   "cell_type": "code",
   "execution_count": 4,
   "id": "e29a8f9b-c683-4a84-a517-0a2bcf9e2891",
   "metadata": {},
   "outputs": [],
   "source": [
    "# text-to-speech libraries\n",
    "from gtts import gTTS\n",
    "from moviepy.editor import concatenate_audioclips, AudioFileClip\n",
    "import librosa\n",
    "import soundfile as sf"
   ]
  },
  {
   "cell_type": "markdown",
   "id": "24ecda03-398b-4b9e-96f0-af5014502eca",
   "metadata": {},
   "source": [
    "### Files and Dataframes Defining"
   ]
  },
  {
   "cell_type": "code",
   "execution_count": 5,
   "id": "0a7451d1-9491-47b2-9c8a-0da6cb90b3bc",
   "metadata": {},
   "outputs": [
    {
     "data": {
      "text/plain": [
       "['beautiful garden.txt', 'cafe at midnight.txt', 'the painted door.txt']"
      ]
     },
     "execution_count": 5,
     "metadata": {},
     "output_type": "execute_result"
    }
   ],
   "source": [
    "# checking stories\n",
    "os.listdir(\"stories\")"
   ]
  },
  {
   "cell_type": "code",
   "execution_count": 6,
   "id": "334267e2-b696-4a16-b1db-1499788eda42",
   "metadata": {},
   "outputs": [
    {
     "name": "stdin",
     "output_type": "stream",
     "text": [
      "Enter text file name: cafe at midnight\n"
     ]
    }
   ],
   "source": [
    "# input title\n",
    "title = input(\"Enter text file name:\")"
   ]
  },
  {
   "cell_type": "code",
   "execution_count": 7,
   "id": "0cf9b1d2-2363-4781-86e4-cccbae5f948d",
   "metadata": {},
   "outputs": [],
   "source": [
    "# opening text file\n",
    "story = f\"stories/{title}.txt\"\n",
    "with open(story, \"r\") as f:\n",
    "    text = f.read()"
   ]
  },
  {
   "cell_type": "code",
   "execution_count": 8,
   "id": "7f3902d3-df6d-47b8-9bc4-e2d577694e9c",
   "metadata": {},
   "outputs": [],
   "source": [
    "# create dataframes\n",
    "df_characters = pd.DataFrame(columns=[\"cid\", \"name\", \"frequency\", \"features\"])\n",
    "df_lines = pd.DataFrame(columns=[\"pid\", \"ndid\", \"character\", \"dialogue\", \"narration\"])"
   ]
  },
  {
   "cell_type": "markdown",
   "id": "cc5ec1fc-e4af-4ad6-ae2c-e159f746cff2",
   "metadata": {},
   "source": [
    "# 1. Lines Identification"
   ]
  },
  {
   "cell_type": "code",
   "execution_count": 9,
   "id": "ab1ac800-2b5a-422c-948b-4288593aa33b",
   "metadata": {},
   "outputs": [],
   "source": [
    "# converting text to paragraphs\n",
    "paragraphs = text.split(\"\\n\")\n",
    "non_empty_paragraphs = list(filter(lambda x: x != '', paragraphs))"
   ]
  },
  {
   "cell_type": "code",
   "execution_count": 10,
   "id": "bcf6ec4d-f0e3-40a8-9d54-5a7af7e4f340",
   "metadata": {},
   "outputs": [],
   "source": [
    "# function to identify narrations and dialogues\n",
    "def identify_narrations_and_dialogues(paragraph):\n",
    "    \"\"\"\n",
    "    :param paragraph: string of paragraph in a story\n",
    "    :return: list of tuples in (id, name_of_speaker, dialogue, narration) format\n",
    "    \"\"\"\n",
    "    divisions = paragraph.split('\"')\n",
    "    divisions = list(filter(lambda x: x != '', divisions))\n",
    "    i, spoken = 0, False\n",
    "    narrations_and_dialogues = []\n",
    "    for division in divisions:\n",
    "        start_index = paragraph.find(division)\n",
    "        end_index = start_index + len(division) - 1\n",
    "        try:\n",
    "            if '\"'==paragraph[start_index-1:start_index] and '\"'==paragraph[end_index+1:end_index+2] and spoken==False:\n",
    "                # dialogues\n",
    "                narrations_and_dialogues.append((i, None, division, None))\n",
    "                spoken = True\n",
    "            else:\n",
    "                # narrations\n",
    "                narrations_and_dialogues.append((i, None, None, division))\n",
    "                spoken = False\n",
    "        except:\n",
    "            # narrations\n",
    "            narrations_and_dialogues.append((i, None, None, division))\n",
    "            spoken = False\n",
    "        i += 1\n",
    "    return narrations_and_dialogues\n"
   ]
  },
  {
   "cell_type": "code",
   "execution_count": 11,
   "id": "3434c2cc-cd18-419e-90af-e95a6d2ef819",
   "metadata": {},
   "outputs": [],
   "source": [
    "# identifying lines (narrations or dialogues) from each paragraphs\n",
    "pid_num = 0\n",
    "for paragraph in non_empty_paragraphs:\n",
    "    for row in [(pid_num,)+nad for nad in identify_narrations_and_dialogues(paragraph)]:\n",
    "        df_lines = df_lines._append(pd.Series(row, index=df_lines.columns), ignore_index=True)\n",
    "    pid_num += 1"
   ]
  },
  {
   "cell_type": "code",
   "execution_count": 12,
   "id": "ba4a3201-ffb6-4eda-92ff-371db814c596",
   "metadata": {},
   "outputs": [],
   "source": [
    "# set index using paragraph and nd\n",
    "df_lines.set_index(['pid', 'ndid'], inplace=True)"
   ]
  },
  {
   "cell_type": "code",
   "execution_count": 13,
   "id": "6f31eb55-9b97-4760-ab64-8c9a7fa25b37",
   "metadata": {},
   "outputs": [
    {
     "data": {
      "text/html": [
       "<div>\n",
       "<style scoped>\n",
       "    .dataframe tbody tr th:only-of-type {\n",
       "        vertical-align: middle;\n",
       "    }\n",
       "\n",
       "    .dataframe tbody tr th {\n",
       "        vertical-align: top;\n",
       "    }\n",
       "\n",
       "    .dataframe thead th {\n",
       "        text-align: right;\n",
       "    }\n",
       "</style>\n",
       "<table border=\"1\" class=\"dataframe\">\n",
       "  <thead>\n",
       "    <tr style=\"text-align: right;\">\n",
       "      <th></th>\n",
       "      <th></th>\n",
       "      <th>character</th>\n",
       "      <th>dialogue</th>\n",
       "      <th>narration</th>\n",
       "    </tr>\n",
       "    <tr>\n",
       "      <th>pid</th>\n",
       "      <th>ndid</th>\n",
       "      <th></th>\n",
       "      <th></th>\n",
       "      <th></th>\n",
       "    </tr>\n",
       "  </thead>\n",
       "  <tbody>\n",
       "    <tr>\n",
       "      <th>0</th>\n",
       "      <th>0</th>\n",
       "      <td>None</td>\n",
       "      <td>None</td>\n",
       "      <td>Midnight in the heart of the city, the neon si...</td>\n",
       "    </tr>\n",
       "    <tr>\n",
       "      <th>1</th>\n",
       "      <th>0</th>\n",
       "      <td>None</td>\n",
       "      <td>None</td>\n",
       "      <td>The door creaked open, and a mysterious figure...</td>\n",
       "    </tr>\n",
       "    <tr>\n",
       "      <th rowspan=\"2\" valign=\"top\">2</th>\n",
       "      <th>0</th>\n",
       "      <td>None</td>\n",
       "      <td>None</td>\n",
       "      <td>Alex raised an eyebrow.</td>\n",
       "    </tr>\n",
       "    <tr>\n",
       "      <th>1</th>\n",
       "      <td>None</td>\n",
       "      <td>Late night for a coffee, isn't it?</td>\n",
       "      <td>None</td>\n",
       "    </tr>\n",
       "    <tr>\n",
       "      <th rowspan=\"2\" valign=\"top\">3</th>\n",
       "      <th>0</th>\n",
       "      <td>None</td>\n",
       "      <td>None</td>\n",
       "      <td>The stranger chuckled, a voice tinged with int...</td>\n",
       "    </tr>\n",
       "    <tr>\n",
       "      <th>1</th>\n",
       "      <td>None</td>\n",
       "      <td>Some stories unfold when the world sleeps.</td>\n",
       "      <td>None</td>\n",
       "    </tr>\n",
       "    <tr>\n",
       "      <th rowspan=\"2\" valign=\"top\">4</th>\n",
       "      <th>0</th>\n",
       "      <td>None</td>\n",
       "      <td>None</td>\n",
       "      <td>Intrigued, Alex leaned forward.</td>\n",
       "    </tr>\n",
       "    <tr>\n",
       "      <th>1</th>\n",
       "      <td>None</td>\n",
       "      <td>What kind of stories?</td>\n",
       "      <td>None</td>\n",
       "    </tr>\n",
       "    <tr>\n",
       "      <th rowspan=\"2\" valign=\"top\">5</th>\n",
       "      <th>0</th>\n",
       "      <td>None</td>\n",
       "      <td>Stories of the forgotten, the ones that only e...</td>\n",
       "      <td>None</td>\n",
       "    </tr>\n",
       "    <tr>\n",
       "      <th>1</th>\n",
       "      <td>None</td>\n",
       "      <td>None</td>\n",
       "      <td>the stranger replied mysteriously.</td>\n",
       "    </tr>\n",
       "  </tbody>\n",
       "</table>\n",
       "</div>"
      ],
      "text/plain": [
       "         character                                           dialogue  \\\n",
       "pid ndid                                                                \n",
       "0   0         None                                               None   \n",
       "1   0         None                                               None   \n",
       "2   0         None                                               None   \n",
       "    1         None                 Late night for a coffee, isn't it?   \n",
       "3   0         None                                               None   \n",
       "    1         None         Some stories unfold when the world sleeps.   \n",
       "4   0         None                                               None   \n",
       "    1         None                              What kind of stories?   \n",
       "5   0         None  Stories of the forgotten, the ones that only e...   \n",
       "    1         None                                               None   \n",
       "\n",
       "                                                  narration  \n",
       "pid ndid                                                     \n",
       "0   0     Midnight in the heart of the city, the neon si...  \n",
       "1   0     The door creaked open, and a mysterious figure...  \n",
       "2   0                              Alex raised an eyebrow.   \n",
       "    1                                                  None  \n",
       "3   0     The stranger chuckled, a voice tinged with int...  \n",
       "    1                                                  None  \n",
       "4   0                      Intrigued, Alex leaned forward.   \n",
       "    1                                                  None  \n",
       "5   0                                                  None  \n",
       "    1                    the stranger replied mysteriously.  "
      ]
     },
     "execution_count": 13,
     "metadata": {},
     "output_type": "execute_result"
    }
   ],
   "source": [
    "# narrations and dialogues\n",
    "df_lines.head(10)"
   ]
  },
  {
   "cell_type": "markdown",
   "id": "2bde477c-1d1c-4968-b289-48fba5c8cf0f",
   "metadata": {},
   "source": [
    "# 2. Characters Identification"
   ]
  },
  {
   "cell_type": "code",
   "execution_count": 14,
   "id": "d7bfcacb-ffe7-446a-a152-c4e1a3a0bf0a",
   "metadata": {},
   "outputs": [],
   "source": [
    "# function to find subjects speaking corresponding dialogues\n",
    "def identify_subjects(sentence):\n",
    "    \"\"\"\n",
    "    :param sentence: string of sentence in the story\n",
    "    :return: individual speaker\n",
    "    \"\"\"\n",
    "    tokens = []\n",
    "    individual, individuals = '', []\n",
    "    \n",
    "    for tok in nlp(sentence):\n",
    "        tokens.append([tok, tok.dep_])\n",
    "        \n",
    "    for i in range(len(tokens)-1, -1, -1):\n",
    "        if tokens[i][1] == \"nsubj\":\n",
    "            individual = str(tokens[i][0])\n",
    "        elif (tokens[i][1] in ['comp', 'det'] and individual != ''):\n",
    "            individual = str(tokens[i][0]) + \" \" + individual\n",
    "        else:\n",
    "            individuals.append(individual)\n",
    "            \n",
    "    individuals.append(individual)\n",
    "    return list(set([ind for ind in individuals if ind != '']))"
   ]
  },
  {
   "cell_type": "code",
   "execution_count": 15,
   "id": "f7dd6bd6-95a5-490c-81c3-01eef1cec37a",
   "metadata": {},
   "outputs": [],
   "source": [
    "# finding semantic similarity\n",
    "def calculating_semantic_similarity(subject, sentence):\n",
    "    \"\"\"\n",
    "    :param subject: list of strings available in a sentence\n",
    "    :return: similarity score\n",
    "    \"\"\"\n",
    "    subject_doc = nlp(subject)\n",
    "    sentence_doc = nlp(sentence)\n",
    "    \n",
    "    subject_vec = subject_doc.vector\n",
    "    sentence_vec = sentence_doc.vector\n",
    "    \n",
    "    subject_vec_norm = subject_doc.vector_norm\n",
    "    sentence_vec_norm = sentence_doc.vector_norm\n",
    "    \n",
    "    if subject_vec_norm > 0 and sentence_vec_norm > 0:\n",
    "        similarity_score = subject_vec.dot(sentence_vec) / (subject_vec_norm * sentence_vec_norm)\n",
    "    else:\n",
    "        similarity_score = 0\n",
    "    \n",
    "    return similarity_score"
   ]
  },
  {
   "cell_type": "code",
   "execution_count": 16,
   "id": "83b3f999-a9fa-482f-ad4e-509f8c981d55",
   "metadata": {},
   "outputs": [],
   "source": [
    "# finding subjects from dialogues and narrations\n",
    "dlg_list = df_lines.index[df_lines['dialogue'].notna()].tolist()\n",
    "\n",
    "for dlgi in dlg_list:\n",
    "    if df_lines.loc[(dlgi[0], dlgi[1]), 'dialogue'][-1] == ',':\n",
    "        subjects = identify_subjects(df_lines.loc[(dlgi[0], dlgi[1]+1), 'narration'])\n",
    "        relevant_dictionary = dict((subject.lower(), calculating_semantic_similarity(subject.lower(), df_lines.loc[(dlgi[0], dlgi[1]+1), 'narration'].lower())) for subject in subjects)\n",
    "        relevant_subject = max(relevant_dictionary, key=lambda k: relevant_dictionary[k])\n",
    "    else:\n",
    "        subjects = identify_subjects(df_lines.loc[(dlgi[0], dlgi[1]-1), 'narration'])\n",
    "        relevant_dictionary = dict((subject.lower(), calculating_semantic_similarity(subject.lower(), df_lines.loc[(dlgi[0], dlgi[1]-1), 'narration'].lower())) for subject in subjects)\n",
    "        relevant_subject = max(relevant_dictionary, key=lambda k: relevant_dictionary[k])\n",
    "    df_lines.loc[(dlgi[0], dlgi[1]), 'character'] = relevant_subject"
   ]
  },
  {
   "cell_type": "code",
   "execution_count": 17,
   "id": "a3d8cd9a-2faa-4648-9da4-7fe0a1c96fc2",
   "metadata": {},
   "outputs": [
    {
     "data": {
      "text/html": [
       "<div>\n",
       "<style scoped>\n",
       "    .dataframe tbody tr th:only-of-type {\n",
       "        vertical-align: middle;\n",
       "    }\n",
       "\n",
       "    .dataframe tbody tr th {\n",
       "        vertical-align: top;\n",
       "    }\n",
       "\n",
       "    .dataframe thead th {\n",
       "        text-align: right;\n",
       "    }\n",
       "</style>\n",
       "<table border=\"1\" class=\"dataframe\">\n",
       "  <thead>\n",
       "    <tr style=\"text-align: right;\">\n",
       "      <th></th>\n",
       "      <th></th>\n",
       "      <th>character</th>\n",
       "      <th>dialogue</th>\n",
       "      <th>narration</th>\n",
       "    </tr>\n",
       "    <tr>\n",
       "      <th>pid</th>\n",
       "      <th>ndid</th>\n",
       "      <th></th>\n",
       "      <th></th>\n",
       "      <th></th>\n",
       "    </tr>\n",
       "  </thead>\n",
       "  <tbody>\n",
       "    <tr>\n",
       "      <th>0</th>\n",
       "      <th>0</th>\n",
       "      <td>None</td>\n",
       "      <td>None</td>\n",
       "      <td>Midnight in the heart of the city, the neon si...</td>\n",
       "    </tr>\n",
       "    <tr>\n",
       "      <th>1</th>\n",
       "      <th>0</th>\n",
       "      <td>None</td>\n",
       "      <td>None</td>\n",
       "      <td>The door creaked open, and a mysterious figure...</td>\n",
       "    </tr>\n",
       "    <tr>\n",
       "      <th rowspan=\"2\" valign=\"top\">2</th>\n",
       "      <th>0</th>\n",
       "      <td>None</td>\n",
       "      <td>None</td>\n",
       "      <td>Alex raised an eyebrow.</td>\n",
       "    </tr>\n",
       "    <tr>\n",
       "      <th>1</th>\n",
       "      <td>alex</td>\n",
       "      <td>Late night for a coffee, isn't it?</td>\n",
       "      <td>None</td>\n",
       "    </tr>\n",
       "    <tr>\n",
       "      <th rowspan=\"2\" valign=\"top\">3</th>\n",
       "      <th>0</th>\n",
       "      <td>None</td>\n",
       "      <td>None</td>\n",
       "      <td>The stranger chuckled, a voice tinged with int...</td>\n",
       "    </tr>\n",
       "    <tr>\n",
       "      <th>1</th>\n",
       "      <td>the stranger</td>\n",
       "      <td>Some stories unfold when the world sleeps.</td>\n",
       "      <td>None</td>\n",
       "    </tr>\n",
       "    <tr>\n",
       "      <th rowspan=\"2\" valign=\"top\">4</th>\n",
       "      <th>0</th>\n",
       "      <td>None</td>\n",
       "      <td>None</td>\n",
       "      <td>Intrigued, Alex leaned forward.</td>\n",
       "    </tr>\n",
       "    <tr>\n",
       "      <th>1</th>\n",
       "      <td>alex</td>\n",
       "      <td>What kind of stories?</td>\n",
       "      <td>None</td>\n",
       "    </tr>\n",
       "    <tr>\n",
       "      <th rowspan=\"2\" valign=\"top\">5</th>\n",
       "      <th>0</th>\n",
       "      <td>the stranger</td>\n",
       "      <td>Stories of the forgotten, the ones that only e...</td>\n",
       "      <td>None</td>\n",
       "    </tr>\n",
       "    <tr>\n",
       "      <th>1</th>\n",
       "      <td>None</td>\n",
       "      <td>None</td>\n",
       "      <td>the stranger replied mysteriously.</td>\n",
       "    </tr>\n",
       "  </tbody>\n",
       "</table>\n",
       "</div>"
      ],
      "text/plain": [
       "             character                                           dialogue  \\\n",
       "pid ndid                                                                    \n",
       "0   0             None                                               None   \n",
       "1   0             None                                               None   \n",
       "2   0             None                                               None   \n",
       "    1             alex                 Late night for a coffee, isn't it?   \n",
       "3   0             None                                               None   \n",
       "    1     the stranger         Some stories unfold when the world sleeps.   \n",
       "4   0             None                                               None   \n",
       "    1             alex                              What kind of stories?   \n",
       "5   0     the stranger  Stories of the forgotten, the ones that only e...   \n",
       "    1             None                                               None   \n",
       "\n",
       "                                                  narration  \n",
       "pid ndid                                                     \n",
       "0   0     Midnight in the heart of the city, the neon si...  \n",
       "1   0     The door creaked open, and a mysterious figure...  \n",
       "2   0                              Alex raised an eyebrow.   \n",
       "    1                                                  None  \n",
       "3   0     The stranger chuckled, a voice tinged with int...  \n",
       "    1                                                  None  \n",
       "4   0                      Intrigued, Alex leaned forward.   \n",
       "    1                                                  None  \n",
       "5   0                                                  None  \n",
       "    1                    the stranger replied mysteriously.  "
      ]
     },
     "execution_count": 17,
     "metadata": {},
     "output_type": "execute_result"
    }
   ],
   "source": [
    "# dialogues and corresponding characters\n",
    "df_lines.head(10)"
   ]
  },
  {
   "cell_type": "code",
   "execution_count": 18,
   "id": "44c4edd3-d8a3-4956-9567-e66a953948a6",
   "metadata": {},
   "outputs": [],
   "source": [
    "# gathering characters from df_lines\n",
    "characters = df_lines['character'].value_counts()\n",
    "df_characters['name'] = characters.index\n",
    "df_characters['frequency'] = characters.values"
   ]
  },
  {
   "cell_type": "code",
   "execution_count": 19,
   "id": "4816a1d8-b78f-42cb-87d6-d99b462bd3dd",
   "metadata": {},
   "outputs": [],
   "source": [
    "# declaring cid as index\n",
    "df_characters['cid'] = range(0, len(df_characters))\n",
    "df_characters.set_index('cid', inplace=True)"
   ]
  },
  {
   "cell_type": "code",
   "execution_count": 20,
   "id": "2704566c-4af5-422b-a4fa-2ac0dc11e755",
   "metadata": {},
   "outputs": [
    {
     "data": {
      "text/html": [
       "<div>\n",
       "<style scoped>\n",
       "    .dataframe tbody tr th:only-of-type {\n",
       "        vertical-align: middle;\n",
       "    }\n",
       "\n",
       "    .dataframe tbody tr th {\n",
       "        vertical-align: top;\n",
       "    }\n",
       "\n",
       "    .dataframe thead th {\n",
       "        text-align: right;\n",
       "    }\n",
       "</style>\n",
       "<table border=\"1\" class=\"dataframe\">\n",
       "  <thead>\n",
       "    <tr style=\"text-align: right;\">\n",
       "      <th></th>\n",
       "      <th>name</th>\n",
       "      <th>frequency</th>\n",
       "      <th>features</th>\n",
       "    </tr>\n",
       "    <tr>\n",
       "      <th>cid</th>\n",
       "      <th></th>\n",
       "      <th></th>\n",
       "      <th></th>\n",
       "    </tr>\n",
       "  </thead>\n",
       "  <tbody>\n",
       "    <tr>\n",
       "      <th>0</th>\n",
       "      <td>alex</td>\n",
       "      <td>4</td>\n",
       "      <td>NaN</td>\n",
       "    </tr>\n",
       "    <tr>\n",
       "      <th>1</th>\n",
       "      <td>the stranger</td>\n",
       "      <td>4</td>\n",
       "      <td>NaN</td>\n",
       "    </tr>\n",
       "  </tbody>\n",
       "</table>\n",
       "</div>"
      ],
      "text/plain": [
       "             name  frequency features\n",
       "cid                                  \n",
       "0            alex          4      NaN\n",
       "1    the stranger          4      NaN"
      ]
     },
     "execution_count": 20,
     "metadata": {},
     "output_type": "execute_result"
    }
   ],
   "source": [
    "# characters\n",
    "df_characters.head(10)"
   ]
  },
  {
   "cell_type": "markdown",
   "id": "86f5a68c-2349-485e-91e1-97cd60921aa7",
   "metadata": {},
   "source": [
    "# 3. Audio Generation"
   ]
  },
  {
   "cell_type": "code",
   "execution_count": 21,
   "id": "2293d368-4d4a-4613-bdf8-64a3b8e6854d",
   "metadata": {},
   "outputs": [
    {
     "name": "stdout",
     "output_type": "stream",
     "text": [
      "Step 1: CONVERSIONS\n",
      "Line 1/19 converted.\n",
      "Line 2/19 converted.\n",
      "Line 3/19 converted.\n",
      "Line 4/19 converted.\n",
      "Line 5/19 converted.\n",
      "Line 6/19 converted.\n",
      "Line 7/19 converted.\n",
      "Line 8/19 converted.\n",
      "Line 9/19 converted.\n",
      "Line 10/19 converted.\n",
      "Line 11/19 converted.\n",
      "Line 12/19 converted.\n",
      "Line 13/19 converted.\n",
      "Line 14/19 converted.\n",
      "Line 15/19 converted.\n",
      "Line 16/19 converted.\n",
      "Line 17/19 converted.\n",
      "Line 18/19 converted.\n",
      "Line 19/19 converted.\n",
      "Conversions finished.\n"
     ]
    }
   ],
   "source": [
    "# creating audios\n",
    "print(\"Step 1: CONVERSIONS\")\n",
    "i = 0\n",
    "for index, row in df_lines.iterrows():\n",
    "    if row['dialogue'] is not None:\n",
    "        speech_gtts = gTTS(text=row['dialogue'], lang='en', slow=False, tld='co.in')\n",
    "    else:\n",
    "        speech_gtts = gTTS(text=row['narration'], lang='en', slow=False, tld='ie')\n",
    "    temp_file = f\"conversions/{i}.mp3\"\n",
    "    print(f\"Line {i+1}/{df_lines.shape[0]} converted.\")\n",
    "    speech_gtts.save(temp_file)\n",
    "    i += 1\n",
    "print(\"Conversions finished.\")"
   ]
  },
  {
   "cell_type": "code",
   "execution_count": 22,
   "id": "cb7e927d-6822-4398-8733-4ef1a04c625b",
   "metadata": {},
   "outputs": [
    {
     "name": "stdout",
     "output_type": "stream",
     "text": [
      "Step 2: COMBINATION\n",
      "Combination finished.\n"
     ]
    }
   ],
   "source": [
    "# combining audios\n",
    "print(\"Step 2: COMBINATION\")\n",
    "clips = [AudioFileClip(f\"conversions/{i}.mp3\") for i in range(df_lines.shape[0])]\n",
    "final_clip = concatenate_audioclips(clips)\n",
    "print(\"Combination finished.\")"
   ]
  },
  {
   "cell_type": "code",
   "execution_count": 35,
   "id": "a41b7618-bf69-4599-afef-27abc652c41f",
   "metadata": {},
   "outputs": [
    {
     "name": "stdout",
     "output_type": "stream",
     "text": [
      "Step 3: ADJUSTMENT\n",
      "MoviePy - Writing audio in conversions/final_slow.mp3\n"
     ]
    },
    {
     "name": "stderr",
     "output_type": "stream",
     "text": [
      "                                                                                                                       \r"
     ]
    },
    {
     "name": "stdout",
     "output_type": "stream",
     "text": [
      "MoviePy - Done.\n",
      "final_slow.mp3 downloaded.\n",
      "Speeded over.\n"
     ]
    }
   ],
   "source": [
    "# adjust speed\n",
    "print(\"Step 3: ADJUSTMENT\")\n",
    "final_clip.write_audiofile(\"conversions/final_slow.mp3\")\n",
    "print(\"final_slow.mp3 downloaded.\")\n",
    "y, sr = librosa.load(\"conversions/final_slow.mp3\", sr=None)\n",
    "y_speed = librosa.effects.time_stretch(y, rate=1.25)\n",
    "print(\"Speeded over.\")"
   ]
  },
  {
   "cell_type": "code",
   "execution_count": 36,
   "id": "664227b9-240e-41cf-95ac-832ca3b91ca7",
   "metadata": {},
   "outputs": [
    {
     "name": "stdout",
     "output_type": "stream",
     "text": [
      "Step 4: REMOVAL\n",
      "Removed 0.mp3\n",
      "Removed 1.mp3\n",
      "Removed 2.mp3\n",
      "Removed 3.mp3\n",
      "Removed 4.mp3\n",
      "Removed 5.mp3\n",
      "Removed 6.mp3\n",
      "Removed 7.mp3\n",
      "Removed 8.mp3\n",
      "Removed 9.mp3\n",
      "Removed 10.mp3\n",
      "Removed 11.mp3\n",
      "Removed 12.mp3\n",
      "Removed 13.mp3\n",
      "Removed 14.mp3\n",
      "Removed 15.mp3\n",
      "Removed 16.mp3\n",
      "Removed 17.mp3\n",
      "Removed 18.mp3\n",
      "Removal over.\n"
     ]
    }
   ],
   "source": [
    "# removing audios\n",
    "print(\"Step 4: REMOVAL\")\n",
    "for i in range(df_lines.shape[0]):\n",
    "    os.remove(f\"conversions/{i}.mp3\")\n",
    "    print(f\"Removed {i}.mp3\")\n",
    "os.remove(\"conversions/final_slow.mp3\")\n",
    "print(\"Removal over.\")"
   ]
  },
  {
   "cell_type": "code",
   "execution_count": 37,
   "id": "665dd587-e7b8-4d10-beeb-41a3d3867374",
   "metadata": {},
   "outputs": [
    {
     "name": "stdout",
     "output_type": "stream",
     "text": [
      "Step 5: DOWNLOADING\n",
      "cafe_at_midnight.mp3 downloaded\n"
     ]
    }
   ],
   "source": [
    "# downloading final audio\n",
    "print(\"Step 5: DOWNLOADING\")\n",
    "final_title = title.replace(\" \", \"_\")\n",
    "sf.write(f\"audiobooks/{final_title}.mp3\", y_speed, sr)\n",
    "print(f\"{final_title}.mp3 downloaded\")"
   ]
  },
  {
   "cell_type": "code",
   "execution_count": null,
   "id": "b793686a-0276-48fb-be53-3ccd40ff0675",
   "metadata": {},
   "outputs": [],
   "source": []
  }
 ],
 "metadata": {
  "kernelspec": {
   "display_name": "Python 3 (ipykernel)",
   "language": "python",
   "name": "python3"
  },
  "language_info": {
   "codemirror_mode": {
    "name": "ipython",
    "version": 3
   },
   "file_extension": ".py",
   "mimetype": "text/x-python",
   "name": "python",
   "nbconvert_exporter": "python",
   "pygments_lexer": "ipython3",
   "version": "3.9.0"
  }
 },
 "nbformat": 4,
 "nbformat_minor": 5
}
