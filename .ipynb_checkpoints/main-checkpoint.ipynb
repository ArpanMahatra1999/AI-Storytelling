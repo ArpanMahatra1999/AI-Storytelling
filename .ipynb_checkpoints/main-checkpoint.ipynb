{
 "cells": [
  {
   "cell_type": "markdown",
   "id": "ae40f825-c843-4462-86ce-7a8d273a1da5",
   "metadata": {},
   "source": [
    "# **AI Storytelling**\n",
    "\n",
    "<img src=\"assets/logo.jpg\" width=\"500\" height=\"300\">\n",
    "\n",
    "This is Natural Language Processing platform that targets on conversion of short stories to audiobooks with features:\n",
    "- characters extraction from text,\n",
    "- voice generation by dialogues, narration and characters,\n",
    "- musical background creation by text,\n",
    "- activities sound generation by lines, and\n",
    "- combination of all above features to create the audiobook.\n",
    "\n",
    "Based on the success of the project, it could be extended with image or video processing features in upcoming days."
   ]
  },
  {
   "cell_type": "markdown",
   "id": "d9ebde27-b693-4ae4-8fbb-2779859d3ee9",
   "metadata": {},
   "source": [
    "### Import Libraries and Functions"
   ]
  },
  {
   "cell_type": "code",
   "execution_count": 3,
   "id": "274ae554-7c39-45ea-ad21-3a8fe63eb609",
   "metadata": {},
   "outputs": [],
   "source": [
    "# basic libraries\n",
    "import os\n",
    "import pandas as pd"
   ]
  },
  {
   "cell_type": "code",
   "execution_count": 103,
   "id": "851f8a25-1e2f-4c63-b249-ffecf61b64b0",
   "metadata": {},
   "outputs": [],
   "source": [
    "# ignore warnings\n",
    "import warnings\n",
    "warnings.filterwarnings('ignore')"
   ]
  },
  {
   "cell_type": "code",
   "execution_count": 104,
   "id": "ff82950a-e67c-443a-a8b3-b554678b0248",
   "metadata": {},
   "outputs": [],
   "source": [
    "# nlp libraries\n",
    "import spacy\n",
    "nlp = spacy.load(\"en_core_web_sm\")"
   ]
  },
  {
   "cell_type": "code",
   "execution_count": 7,
   "id": "e29a8f9b-c683-4a84-a517-0a2bcf9e2891",
   "metadata": {},
   "outputs": [],
   "source": [
    "# text-to-speech libraries\n",
    "from gtts import gTTS\n",
    "from moviepy.editor import concatenate_audioclips, AudioFileClip\n",
    "import librosa\n",
    "import soundfile as sf"
   ]
  },
  {
   "cell_type": "markdown",
   "id": "24ecda03-398b-4b9e-96f0-af5014502eca",
   "metadata": {},
   "source": [
    "### Files and Dataframes Defining"
   ]
  },
  {
   "cell_type": "code",
   "execution_count": 211,
   "id": "0a7451d1-9491-47b2-9c8a-0da6cb90b3bc",
   "metadata": {},
   "outputs": [
    {
     "data": {
      "text/plain": [
       "['beautiful garden.txt', 'cafe at midnight.txt', 'the painted door.txt']"
      ]
     },
     "execution_count": 211,
     "metadata": {},
     "output_type": "execute_result"
    }
   ],
   "source": [
    "# checking stories\n",
    "os.listdir(\"stories\")"
   ]
  },
  {
   "cell_type": "code",
   "execution_count": 227,
   "id": "334267e2-b696-4a16-b1db-1499788eda42",
   "metadata": {},
   "outputs": [
    {
     "name": "stdin",
     "output_type": "stream",
     "text": [
      "Enter text file name: beautiful garden\n"
     ]
    }
   ],
   "source": [
    "# input title\n",
    "title = input(\"Enter text file name:\")"
   ]
  },
  {
   "cell_type": "code",
   "execution_count": 228,
   "id": "0cf9b1d2-2363-4781-86e4-cccbae5f948d",
   "metadata": {},
   "outputs": [],
   "source": [
    "# opening text file\n",
    "story = f\"stories/{title}.txt\"\n",
    "with open(story, \"r\") as f:\n",
    "    text = f.read()"
   ]
  },
  {
   "cell_type": "code",
   "execution_count": 229,
   "id": "7f3902d3-df6d-47b8-9bc4-e2d577694e9c",
   "metadata": {},
   "outputs": [],
   "source": [
    "# create dataframes\n",
    "df_characters = pd.DataFrame(columns=[\"cid\", \"name\", \"frequency\", \"features\"])\n",
    "df_lines = pd.DataFrame(columns=[\"pid\", \"ndid\", \"character\", \"dialogue\", \"narration\"])"
   ]
  },
  {
   "cell_type": "markdown",
   "id": "b74d6ee0-48af-4a35-b7af-cf1f696041ff",
   "metadata": {},
   "source": [
    "# Characters Identification"
   ]
  },
  {
   "cell_type": "code",
   "execution_count": 230,
   "id": "0e631733-65a7-4abc-9a88-5c7bdf52d6f8",
   "metadata": {},
   "outputs": [],
   "source": [
    "# finding personal entities from text\n",
    "entities = nlp(text).ents\n",
    "personal_entities = []\n",
    "for entity in entities:\n",
    "    if entity.label_ == 'PERSON':\n",
    "        personal_entities.append(entity.text)\n",
    "personal_entities = list(set(personal_entities))"
   ]
  },
  {
   "cell_type": "code",
   "execution_count": 231,
   "id": "6ac0786e-479e-485e-b985-f7278b7579aa",
   "metadata": {},
   "outputs": [],
   "source": [
    "# adding persons and counts to df_characters\n",
    "cid_num = 0\n",
    "for person in personal_entities:\n",
    "    df_characters = df_characters._append({\n",
    "        'cid': cid_num, 'name': person, 'frequency': text.count(person), 'features': None}, ignore_index=True)\n",
    "    cid_num += 1"
   ]
  },
  {
   "cell_type": "code",
   "execution_count": 232,
   "id": "867c4cfc-1046-47de-b7ec-062ff4d943a9",
   "metadata": {},
   "outputs": [
    {
     "data": {
      "text/html": [
       "<div>\n",
       "<style scoped>\n",
       "    .dataframe tbody tr th:only-of-type {\n",
       "        vertical-align: middle;\n",
       "    }\n",
       "\n",
       "    .dataframe tbody tr th {\n",
       "        vertical-align: top;\n",
       "    }\n",
       "\n",
       "    .dataframe thead th {\n",
       "        text-align: right;\n",
       "    }\n",
       "</style>\n",
       "<table border=\"1\" class=\"dataframe\">\n",
       "  <thead>\n",
       "    <tr style=\"text-align: right;\">\n",
       "      <th></th>\n",
       "      <th>cid</th>\n",
       "      <th>name</th>\n",
       "      <th>frequency</th>\n",
       "      <th>features</th>\n",
       "    </tr>\n",
       "  </thead>\n",
       "  <tbody>\n",
       "    <tr>\n",
       "      <th>0</th>\n",
       "      <td>0</td>\n",
       "      <td>Lily</td>\n",
       "      <td>12</td>\n",
       "      <td>None</td>\n",
       "    </tr>\n",
       "    <tr>\n",
       "      <th>1</th>\n",
       "      <td>1</td>\n",
       "      <td>Thompson</td>\n",
       "      <td>8</td>\n",
       "      <td>None</td>\n",
       "    </tr>\n",
       "  </tbody>\n",
       "</table>\n",
       "</div>"
      ],
      "text/plain": [
       "  cid      name frequency features\n",
       "0   0      Lily        12     None\n",
       "1   1  Thompson         8     None"
      ]
     },
     "execution_count": 232,
     "metadata": {},
     "output_type": "execute_result"
    }
   ],
   "source": [
    "# characters\n",
    "df_characters.head(10)"
   ]
  },
  {
   "cell_type": "markdown",
   "id": "cc5ec1fc-e4af-4ad6-ae2c-e159f746cff2",
   "metadata": {},
   "source": [
    "# Lines Identification"
   ]
  },
  {
   "cell_type": "code",
   "execution_count": 233,
   "id": "ab1ac800-2b5a-422c-948b-4288593aa33b",
   "metadata": {},
   "outputs": [],
   "source": [
    "# converting text to paragraphs\n",
    "paragraphs = text.split(\"\\n\")\n",
    "non_empty_paragraphs = list(filter(lambda x: x != '', paragraphs))"
   ]
  },
  {
   "cell_type": "code",
   "execution_count": 234,
   "id": "bcf6ec4d-f0e3-40a8-9d54-5a7af7e4f340",
   "metadata": {},
   "outputs": [],
   "source": [
    "# function to identify narrations and dialogues\n",
    "def identify_narrations_and_dialogues(paragraph):\n",
    "    \"\"\"\n",
    "    :param paragraph: string of paragraph in a story\n",
    "    :return: list of tuples in (id, name_of_speaker, dialogue, narration) format\n",
    "    \"\"\"\n",
    "    divisions = paragraph.split('\"')\n",
    "    divisions = list(filter(lambda x: x != '', divisions))\n",
    "    i = 0\n",
    "    identification_type = 'D' if '\"' in divisions[0] else 'N'\n",
    "    narrations_and_dialogues = []\n",
    "    for division in divisions:\n",
    "        if identification_type == 'D':\n",
    "            narrations_and_dialogues.append((i, None, division, None))\n",
    "            identification_type = 'N'\n",
    "        else:\n",
    "            narrations_and_dialogues.append((i, None, None, division))\n",
    "            identification_type = 'D'\n",
    "        i += 1\n",
    "    return narrations_and_dialogues\n"
   ]
  },
  {
   "cell_type": "code",
   "execution_count": 235,
   "id": "3434c2cc-cd18-419e-90af-e95a6d2ef819",
   "metadata": {},
   "outputs": [],
   "source": [
    "# identifying lines (narrations or dialogues) from each paragraphs\n",
    "pid_num = 0\n",
    "for paragraph in non_empty_paragraphs:\n",
    "    for row in [(pid_num,)+nad for nad in identify_narrations_and_dialogues(paragraph)]:\n",
    "        df_lines = df_lines._append(pd.Series(row, index=df_lines.columns), ignore_index=True)\n",
    "    pid_num += 1"
   ]
  },
  {
   "cell_type": "code",
   "execution_count": 236,
   "id": "5fcbc2f7-f4ec-4697-89c6-0aea916929c9",
   "metadata": {},
   "outputs": [
    {
     "data": {
      "text/html": [
       "<div>\n",
       "<style scoped>\n",
       "    .dataframe tbody tr th:only-of-type {\n",
       "        vertical-align: middle;\n",
       "    }\n",
       "\n",
       "    .dataframe tbody tr th {\n",
       "        vertical-align: top;\n",
       "    }\n",
       "\n",
       "    .dataframe thead th {\n",
       "        text-align: right;\n",
       "    }\n",
       "</style>\n",
       "<table border=\"1\" class=\"dataframe\">\n",
       "  <thead>\n",
       "    <tr style=\"text-align: right;\">\n",
       "      <th></th>\n",
       "      <th>pid</th>\n",
       "      <th>ndid</th>\n",
       "      <th>character</th>\n",
       "      <th>dialogue</th>\n",
       "      <th>narration</th>\n",
       "    </tr>\n",
       "  </thead>\n",
       "  <tbody>\n",
       "    <tr>\n",
       "      <th>0</th>\n",
       "      <td>0</td>\n",
       "      <td>0</td>\n",
       "      <td>None</td>\n",
       "      <td>None</td>\n",
       "      <td>Once upon a time, in a small, quiet village, t...</td>\n",
       "    </tr>\n",
       "    <tr>\n",
       "      <th>1</th>\n",
       "      <td>1</td>\n",
       "      <td>0</td>\n",
       "      <td>None</td>\n",
       "      <td>None</td>\n",
       "      <td>One sunny afternoon, as Lily was by the river,...</td>\n",
       "    </tr>\n",
       "    <tr>\n",
       "      <th>2</th>\n",
       "      <td>2</td>\n",
       "      <td>0</td>\n",
       "      <td>None</td>\n",
       "      <td>None</td>\n",
       "      <td>Unbeknownst to Lily, a kind stranger had been ...</td>\n",
       "    </tr>\n",
       "    <tr>\n",
       "      <th>3</th>\n",
       "      <td>2</td>\n",
       "      <td>1</td>\n",
       "      <td>None</td>\n",
       "      <td>You have a heart as beautiful as that butterfl...</td>\n",
       "      <td>None</td>\n",
       "    </tr>\n",
       "    <tr>\n",
       "      <th>4</th>\n",
       "      <td>3</td>\n",
       "      <td>0</td>\n",
       "      <td>None</td>\n",
       "      <td>None</td>\n",
       "      <td>Lily blushed, not used to receiving compliment...</td>\n",
       "    </tr>\n",
       "    <tr>\n",
       "      <th>5</th>\n",
       "      <td>3</td>\n",
       "      <td>1</td>\n",
       "      <td>None</td>\n",
       "      <td>I've been searching for someone just like you....</td>\n",
       "      <td>None</td>\n",
       "    </tr>\n",
       "    <tr>\n",
       "      <th>6</th>\n",
       "      <td>4</td>\n",
       "      <td>0</td>\n",
       "      <td>None</td>\n",
       "      <td>None</td>\n",
       "      <td>Lily's eyes sparkled with excitement. She had ...</td>\n",
       "    </tr>\n",
       "    <tr>\n",
       "      <th>7</th>\n",
       "      <td>4</td>\n",
       "      <td>1</td>\n",
       "      <td>None</td>\n",
       "      <td>I'd love to help,</td>\n",
       "      <td>None</td>\n",
       "    </tr>\n",
       "    <tr>\n",
       "      <th>8</th>\n",
       "      <td>4</td>\n",
       "      <td>2</td>\n",
       "      <td>None</td>\n",
       "      <td>None</td>\n",
       "      <td>she replied.</td>\n",
       "    </tr>\n",
       "    <tr>\n",
       "      <th>9</th>\n",
       "      <td>5</td>\n",
       "      <td>0</td>\n",
       "      <td>None</td>\n",
       "      <td>None</td>\n",
       "      <td>From that day on, Lily spent her afternoons ca...</td>\n",
       "    </tr>\n",
       "  </tbody>\n",
       "</table>\n",
       "</div>"
      ],
      "text/plain": [
       "  pid ndid character                                           dialogue  \\\n",
       "0   0    0      None                                               None   \n",
       "1   1    0      None                                               None   \n",
       "2   2    0      None                                               None   \n",
       "3   2    1      None  You have a heart as beautiful as that butterfl...   \n",
       "4   3    0      None                                               None   \n",
       "5   3    1      None  I've been searching for someone just like you....   \n",
       "6   4    0      None                                               None   \n",
       "7   4    1      None                                  I'd love to help,   \n",
       "8   4    2      None                                               None   \n",
       "9   5    0      None                                               None   \n",
       "\n",
       "                                           narration  \n",
       "0  Once upon a time, in a small, quiet village, t...  \n",
       "1  One sunny afternoon, as Lily was by the river,...  \n",
       "2  Unbeknownst to Lily, a kind stranger had been ...  \n",
       "3                                               None  \n",
       "4  Lily blushed, not used to receiving compliment...  \n",
       "5                                               None  \n",
       "6  Lily's eyes sparkled with excitement. She had ...  \n",
       "7                                               None  \n",
       "8                                       she replied.  \n",
       "9  From that day on, Lily spent her afternoons ca...  "
      ]
     },
     "execution_count": 236,
     "metadata": {},
     "output_type": "execute_result"
    }
   ],
   "source": [
    "# lines\n",
    "df_lines.head(10)"
   ]
  },
  {
   "cell_type": "markdown",
   "id": "86f5a68c-2349-485e-91e1-97cd60921aa7",
   "metadata": {},
   "source": [
    "# Audio Generation"
   ]
  },
  {
   "cell_type": "code",
   "execution_count": 237,
   "id": "2293d368-4d4a-4613-bdf8-64a3b8e6854d",
   "metadata": {},
   "outputs": [
    {
     "name": "stdout",
     "output_type": "stream",
     "text": [
      "Step 1: CONVERSIONS\n",
      "Line 1/16 converted.\n",
      "Line 2/16 converted.\n",
      "Line 3/16 converted.\n",
      "Line 4/16 converted.\n",
      "Line 5/16 converted.\n",
      "Line 6/16 converted.\n",
      "Line 7/16 converted.\n",
      "Line 8/16 converted.\n",
      "Line 9/16 converted.\n",
      "Line 10/16 converted.\n",
      "Line 11/16 converted.\n",
      "Line 12/16 converted.\n",
      "Line 13/16 converted.\n",
      "Line 14/16 converted.\n",
      "Line 15/16 converted.\n",
      "Line 16/16 converted.\n",
      "Conversions finished.\n"
     ]
    }
   ],
   "source": [
    "# creating audios\n",
    "print(\"Step 1: CONVERSIONS\")\n",
    "for index, row in df_lines.iterrows():\n",
    "    if row['dialogue'] is not None:\n",
    "        speech_gtts = gTTS(text=row['dialogue'], lang='en', slow=False, tld='co.in')\n",
    "    else:\n",
    "        speech_gtts = gTTS(text=row['narration'], lang='en', slow=False, tld='ie')\n",
    "    temp_file = f\"conversions/{index}.mp3\"\n",
    "    print(f\"Line {index+1}/{df_lines.shape[0]} converted.\")\n",
    "    speech_gtts.save(temp_file)\n",
    "print(\"Conversions finished.\")"
   ]
  },
  {
   "cell_type": "code",
   "execution_count": 238,
   "id": "cb7e927d-6822-4398-8733-4ef1a04c625b",
   "metadata": {},
   "outputs": [
    {
     "name": "stdout",
     "output_type": "stream",
     "text": [
      "Step 2: COMBINATION\n",
      "Combination finished.\n"
     ]
    }
   ],
   "source": [
    "# combining audios\n",
    "print(\"Step 2: COMBINATION\")\n",
    "clips = [AudioFileClip(f\"conversions/{i}.mp3\") for i in range(df_lines.shape[0])]\n",
    "final_clip = concatenate_audioclips(clips)\n",
    "print(\"Combination finished.\")"
   ]
  },
  {
   "cell_type": "code",
   "execution_count": 239,
   "id": "a41b7618-bf69-4599-afef-27abc652c41f",
   "metadata": {},
   "outputs": [
    {
     "name": "stdout",
     "output_type": "stream",
     "text": [
      "Step 3: ADJUSTMENT\n",
      "MoviePy - Writing audio in conversions/final_slow.mp3\n"
     ]
    },
    {
     "name": "stderr",
     "output_type": "stream",
     "text": [
      "                                                                                                                       \r"
     ]
    },
    {
     "name": "stdout",
     "output_type": "stream",
     "text": [
      "MoviePy - Done.\n",
      "final_slow.mp3 downloaded.\n",
      "Speeded over.\n"
     ]
    }
   ],
   "source": [
    "# adjust speed\n",
    "print(\"Step 3: ADJUSTMENT\")\n",
    "final_clip.write_audiofile(\"conversions/final_slow.mp3\")\n",
    "print(\"final_slow.mp3 downloaded.\")\n",
    "y, sr = librosa.load(\"conversions/final_slow.mp3\", sr=None)\n",
    "y_speed = librosa.effects.time_stretch(y, rate=1.25)\n",
    "print(\"Speeded over.\")"
   ]
  },
  {
   "cell_type": "code",
   "execution_count": 240,
   "id": "664227b9-240e-41cf-95ac-832ca3b91ca7",
   "metadata": {},
   "outputs": [
    {
     "name": "stdout",
     "output_type": "stream",
     "text": [
      "Step 4: REMOVAL\n",
      "Removed 0.mp3\n",
      "Removed 1.mp3\n",
      "Removed 2.mp3\n",
      "Removed 3.mp3\n",
      "Removed 4.mp3\n",
      "Removed 5.mp3\n",
      "Removed 6.mp3\n",
      "Removed 7.mp3\n",
      "Removed 8.mp3\n",
      "Removed 9.mp3\n",
      "Removed 10.mp3\n",
      "Removed 11.mp3\n",
      "Removed 12.mp3\n",
      "Removed 13.mp3\n",
      "Removed 14.mp3\n",
      "Removed 15.mp3\n",
      "Removal over.\n"
     ]
    }
   ],
   "source": [
    "# removing audios\n",
    "print(\"Step 4: REMOVAL\")\n",
    "for i in range(df_lines.shape[0]):\n",
    "    os.remove(f\"conversions/{i}.mp3\")\n",
    "    print(f\"Removed {i}.mp3\")\n",
    "os.remove(\"conversions/final_slow.mp3\")\n",
    "print(\"Removal over.\")"
   ]
  },
  {
   "cell_type": "code",
   "execution_count": 241,
   "id": "665dd587-e7b8-4d10-beeb-41a3d3867374",
   "metadata": {},
   "outputs": [
    {
     "name": "stdout",
     "output_type": "stream",
     "text": [
      "Step 5: DOWNLOADING\n",
      "beautiful_garden.mp3 downloaded\n"
     ]
    }
   ],
   "source": [
    "# downloading final audio\n",
    "print(\"Step 5: DOWNLOADING\")\n",
    "final_title = title.replace(\" \", \"_\")\n",
    "sf.write(f\"audiobooks/{final_title}.mp3\", y_speed, sr)\n",
    "print(f\"{final_title}.mp3 downloaded\")"
   ]
  },
  {
   "cell_type": "code",
   "execution_count": null,
   "id": "59c26187-13dd-4f2e-a531-ddbc9af1d1e6",
   "metadata": {},
   "outputs": [],
   "source": []
  }
 ],
 "metadata": {
  "kernelspec": {
   "display_name": "Python 3 (ipykernel)",
   "language": "python",
   "name": "python3"
  },
  "language_info": {
   "codemirror_mode": {
    "name": "ipython",
    "version": 3
   },
   "file_extension": ".py",
   "mimetype": "text/x-python",
   "name": "python",
   "nbconvert_exporter": "python",
   "pygments_lexer": "ipython3",
   "version": "3.9.0"
  }
 },
 "nbformat": 4,
 "nbformat_minor": 5
}
