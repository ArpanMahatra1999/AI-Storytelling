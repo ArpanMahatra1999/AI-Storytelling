{
 "cells": [
  {
   "cell_type": "markdown",
   "id": "ae40f825-c843-4462-86ce-7a8d273a1da5",
   "metadata": {},
   "source": [
    "# **AI Storytelling**\n",
    "\n",
    "<img src=\"assets/logo.jpg\" width=\"500\" height=\"300\">\n",
    "\n",
    "This is Natural Language Processing platform that targets on conversion of short stories to audiobooks with features:\n",
    "- characters extraction from text,\n",
    "- voice generation by dialogues, narration and characters,\n",
    "- musical background creation by text,\n",
    "- activities sound generation by lines, and\n",
    "- combination of all above features to create the audiobook.\n",
    "\n",
    "Based on the success of the project, it could be extended with image or video processing features in upcoming days."
   ]
  },
  {
   "cell_type": "markdown",
   "id": "d9ebde27-b693-4ae4-8fbb-2779859d3ee9",
   "metadata": {},
   "source": [
    "### Import Libraries and Functions"
   ]
  },
  {
   "cell_type": "code",
   "execution_count": 89,
   "id": "274ae554-7c39-45ea-ad21-3a8fe63eb609",
   "metadata": {},
   "outputs": [],
   "source": [
    "# basic libraries\n",
    "import os\n",
    "import pandas as pd"
   ]
  },
  {
   "cell_type": "code",
   "execution_count": 90,
   "id": "851f8a25-1e2f-4c63-b249-ffecf61b64b0",
   "metadata": {},
   "outputs": [],
   "source": [
    "# ignore warnings\n",
    "import warnings\n",
    "warnings.filterwarnings('ignore')"
   ]
  },
  {
   "cell_type": "code",
   "execution_count": 91,
   "id": "ff82950a-e67c-443a-a8b3-b554678b0248",
   "metadata": {},
   "outputs": [],
   "source": [
    "# nlp libraries\n",
    "import spacy\n",
    "nlp = spacy.load(\"en_core_web_lg\")"
   ]
  },
  {
   "cell_type": "code",
   "execution_count": 43,
   "id": "e29a8f9b-c683-4a84-a517-0a2bcf9e2891",
   "metadata": {},
   "outputs": [],
   "source": [
    "# text-to-speech libraries\n",
    "from gtts import gTTS\n",
    "from moviepy.editor import concatenate_audioclips, AudioFileClip\n",
    "import librosa\n",
    "import soundfile as sf"
   ]
  },
  {
   "cell_type": "markdown",
   "id": "24ecda03-398b-4b9e-96f0-af5014502eca",
   "metadata": {},
   "source": [
    "### Files and Dataframes Defining"
   ]
  },
  {
   "cell_type": "code",
   "execution_count": 44,
   "id": "0a7451d1-9491-47b2-9c8a-0da6cb90b3bc",
   "metadata": {},
   "outputs": [
    {
     "data": {
      "text/plain": [
       "['beautiful garden.txt', 'cafe at midnight.txt', 'the painted door.txt']"
      ]
     },
     "execution_count": 44,
     "metadata": {},
     "output_type": "execute_result"
    }
   ],
   "source": [
    "# checking stories\n",
    "os.listdir(\"stories\")"
   ]
  },
  {
   "cell_type": "code",
   "execution_count": 45,
   "id": "334267e2-b696-4a16-b1db-1499788eda42",
   "metadata": {},
   "outputs": [
    {
     "name": "stdin",
     "output_type": "stream",
     "text": [
      "Enter text file name: cafe at midnight\n"
     ]
    }
   ],
   "source": [
    "# input title\n",
    "title = input(\"Enter text file name:\")"
   ]
  },
  {
   "cell_type": "code",
   "execution_count": 46,
   "id": "0cf9b1d2-2363-4781-86e4-cccbae5f948d",
   "metadata": {},
   "outputs": [],
   "source": [
    "# opening text file\n",
    "story = f\"stories/{title}.txt\"\n",
    "with open(story, \"r\") as f:\n",
    "    text = f.read()"
   ]
  },
  {
   "cell_type": "code",
   "execution_count": 47,
   "id": "7f3902d3-df6d-47b8-9bc4-e2d577694e9c",
   "metadata": {},
   "outputs": [],
   "source": [
    "# create dataframes\n",
    "df_characters = pd.DataFrame(columns=[\"cid\", \"name\", \"frequency\", \"features\"])\n",
    "df_lines = pd.DataFrame(columns=[\"pid\", \"ndid\", \"character\", \"dialogue\", \"narration\"])"
   ]
  },
  {
   "cell_type": "markdown",
   "id": "b74d6ee0-48af-4a35-b7af-cf1f696041ff",
   "metadata": {},
   "source": [
    "# Characters Identification"
   ]
  },
  {
   "cell_type": "code",
   "execution_count": 48,
   "id": "0e631733-65a7-4abc-9a88-5c7bdf52d6f8",
   "metadata": {},
   "outputs": [],
   "source": [
    "# finding personal entities from text\n",
    "entities = nlp(text).ents\n",
    "personal_entities = []\n",
    "for entity in entities:\n",
    "    if entity.label_ == 'PERSON':\n",
    "        personal_entities.append(entity.text)\n",
    "personal_entities = list(set(personal_entities))"
   ]
  },
  {
   "cell_type": "code",
   "execution_count": 49,
   "id": "6ac0786e-479e-485e-b985-f7278b7579aa",
   "metadata": {},
   "outputs": [],
   "source": [
    "# adding persons and counts to df_characters\n",
    "cid_num = 0\n",
    "for person in personal_entities:\n",
    "    df_characters = df_characters._append({\n",
    "        'cid': cid_num, 'name': person, 'frequency': text.count(person), 'features': None}, ignore_index=True)\n",
    "    cid_num += 1"
   ]
  },
  {
   "cell_type": "code",
   "execution_count": 50,
   "id": "867c4cfc-1046-47de-b7ec-062ff4d943a9",
   "metadata": {},
   "outputs": [
    {
     "data": {
      "text/html": [
       "<div>\n",
       "<style scoped>\n",
       "    .dataframe tbody tr th:only-of-type {\n",
       "        vertical-align: middle;\n",
       "    }\n",
       "\n",
       "    .dataframe tbody tr th {\n",
       "        vertical-align: top;\n",
       "    }\n",
       "\n",
       "    .dataframe thead th {\n",
       "        text-align: right;\n",
       "    }\n",
       "</style>\n",
       "<table border=\"1\" class=\"dataframe\">\n",
       "  <thead>\n",
       "    <tr style=\"text-align: right;\">\n",
       "      <th></th>\n",
       "      <th>cid</th>\n",
       "      <th>name</th>\n",
       "      <th>frequency</th>\n",
       "      <th>features</th>\n",
       "    </tr>\n",
       "  </thead>\n",
       "  <tbody>\n",
       "    <tr>\n",
       "      <th>0</th>\n",
       "      <td>0</td>\n",
       "      <td>Alex</td>\n",
       "      <td>7</td>\n",
       "      <td>None</td>\n",
       "    </tr>\n",
       "  </tbody>\n",
       "</table>\n",
       "</div>"
      ],
      "text/plain": [
       "  cid  name frequency features\n",
       "0   0  Alex         7     None"
      ]
     },
     "execution_count": 50,
     "metadata": {},
     "output_type": "execute_result"
    }
   ],
   "source": [
    "# characters\n",
    "df_characters.head(10)"
   ]
  },
  {
   "cell_type": "markdown",
   "id": "cc5ec1fc-e4af-4ad6-ae2c-e159f746cff2",
   "metadata": {},
   "source": [
    "# Lines Identification"
   ]
  },
  {
   "cell_type": "code",
   "execution_count": 51,
   "id": "ab1ac800-2b5a-422c-948b-4288593aa33b",
   "metadata": {},
   "outputs": [],
   "source": [
    "# converting text to paragraphs\n",
    "paragraphs = text.split(\"\\n\")\n",
    "non_empty_paragraphs = list(filter(lambda x: x != '', paragraphs))"
   ]
  },
  {
   "cell_type": "code",
   "execution_count": 86,
   "id": "bcf6ec4d-f0e3-40a8-9d54-5a7af7e4f340",
   "metadata": {},
   "outputs": [],
   "source": [
    "# function to identify narrations and dialogues\n",
    "def identify_narrations_and_dialogues(paragraph):\n",
    "    \"\"\"\n",
    "    :param paragraph: string of paragraph in a story\n",
    "    :return: list of tuples in (id, name_of_speaker, dialogue, narration) format\n",
    "    \"\"\"\n",
    "    divisions = paragraph.split('\"')\n",
    "    divisions = list(filter(lambda x: x != '', divisions))\n",
    "    i, spoken = 0, False\n",
    "    narrations_and_dialogues = []\n",
    "    print(\"===========================\")\n",
    "    print(paragraph)\n",
    "    for division in divisions:\n",
    "        start_index = paragraph.find(division)\n",
    "        end_index = start_index + len(division) - 1\n",
    "        print(\"-------------------\")\n",
    "        print(\"Division:\", division)\n",
    "        try:\n",
    "            if '\"'==paragraph[start_index-1:start_index] and '\"'==paragraph[end_index+1:end_index+2] and spoken==False:\n",
    "                narrations_and_dialogues.append((i, None, division, None))\n",
    "                # dialogues only\n",
    "                print(division, \"D\")\n",
    "                spoken = True\n",
    "            else:\n",
    "                narrations_and_dialogues.append((i, None, None, division))\n",
    "                spoken = False\n",
    "        except:\n",
    "            narrations_and_dialogues.append((i, None, None, division))\n",
    "            spoken = False\n",
    "        i += 1\n",
    "    return narrations_and_dialogues\n"
   ]
  },
  {
   "cell_type": "code",
   "execution_count": 87,
   "id": "3434c2cc-cd18-419e-90af-e95a6d2ef819",
   "metadata": {},
   "outputs": [
    {
     "name": "stdout",
     "output_type": "stream",
     "text": [
      "===========================\n",
      "Midnight in the heart of the city, the neon signs reflected off the wet pavement as a lone cafÃ© stood open. Inside, Alex sat by the window, sipping coffee and lost in thought.\n",
      "-------------------\n",
      "Division: Midnight in the heart of the city, the neon signs reflected off the wet pavement as a lone cafÃ© stood open. Inside, Alex sat by the window, sipping coffee and lost in thought.\n",
      "===========================\n",
      "The door creaked open, and a mysterious figure entered, their face hidden by the shadows. They took a seat across from Alex without uttering a word.\n",
      "-------------------\n",
      "Division: The door creaked open, and a mysterious figure entered, their face hidden by the shadows. They took a seat across from Alex without uttering a word.\n",
      "===========================\n",
      "Alex raised an eyebrow. \"Late night for a coffee, isn't it?\"\n",
      "-------------------\n",
      "Division: Alex raised an eyebrow. \n",
      "-------------------\n",
      "Division: Late night for a coffee, isn't it?\n",
      "Late night for a coffee, isn't it? D\n",
      "===========================\n",
      "The stranger chuckled, a voice tinged with intrigue. \"Some stories unfold when the world sleeps.\"\n",
      "-------------------\n",
      "Division: The stranger chuckled, a voice tinged with intrigue. \n",
      "-------------------\n",
      "Division: Some stories unfold when the world sleeps.\n",
      "Some stories unfold when the world sleeps. D\n",
      "===========================\n",
      "Intrigued, Alex leaned forward. \"What kind of stories?\"\n",
      "-------------------\n",
      "Division: Intrigued, Alex leaned forward. \n",
      "-------------------\n",
      "Division: What kind of stories?\n",
      "What kind of stories? D\n",
      "===========================\n",
      "\"Stories of the forgotten, the ones that only emerge when the city is draped in silence,\" the stranger replied mysteriously.\n",
      "-------------------\n",
      "Division: Stories of the forgotten, the ones that only emerge when the city is draped in silence,\n",
      "Stories of the forgotten, the ones that only emerge when the city is draped in silence, D\n",
      "-------------------\n",
      "Division:  the stranger replied mysteriously.\n",
      "===========================\n",
      "As the two continued to talk, a bond formed between them, woven through tales of lost dreams and midnight revelations. The cafÃ© became a realm where time seemed to stand still, and the ordinary world faded away.\n",
      "-------------------\n",
      "Division: As the two continued to talk, a bond formed between them, woven through tales of lost dreams and midnight revelations. The cafÃ© became a realm where time seemed to stand still, and the ordinary world faded away.\n",
      "===========================\n",
      "\"You know,\" Alex said, \"this feels like a chapter from a novel. A meeting in the dead of night, sharing stories with a stranger.\"\n",
      "-------------------\n",
      "Division: You know,\n",
      "You know, D\n",
      "-------------------\n",
      "Division:  Alex said, \n",
      "-------------------\n",
      "Division: this feels like a chapter from a novel. A meeting in the dead of night, sharing stories with a stranger.\n",
      "this feels like a chapter from a novel. A meeting in the dead of night, sharing stories with a stranger. D\n",
      "===========================\n",
      "The stranger smirked. \"Perhaps it is. Life has a way of scripting its own narratives.\"\n",
      "-------------------\n",
      "Division: The stranger smirked. \n",
      "-------------------\n",
      "Division: Perhaps it is. Life has a way of scripting its own narratives.\n",
      "Perhaps it is. Life has a way of scripting its own narratives. D\n",
      "===========================\n",
      "As the clock struck 3 AM, the stranger stood to leave, their features still concealed by shadows. \"Until our paths cross again, Alex.\"\n",
      "-------------------\n",
      "Division: As the clock struck 3 AM, the stranger stood to leave, their features still concealed by shadows. \n",
      "-------------------\n",
      "Division: Until our paths cross again, Alex.\n",
      "Until our paths cross again, Alex. D\n",
      "===========================\n",
      "And with that, they vanished into the night, leaving Alex alone in the dimly lit cafÃ©. The city outside seemed to wake up, but the encounter lingered like a chapter from a book, waiting to be explored in the pages of the next unexpected adventure.\n",
      "-------------------\n",
      "Division: And with that, they vanished into the night, leaving Alex alone in the dimly lit cafÃ©. The city outside seemed to wake up, but the encounter lingered like a chapter from a book, waiting to be explored in the pages of the next unexpected adventure.\n"
     ]
    }
   ],
   "source": [
    "# identifying lines (narrations or dialogues) from each paragraphs\n",
    "pid_num = 0\n",
    "for paragraph in non_empty_paragraphs:\n",
    "    for row in [(pid_num,)+nad for nad in identify_narrations_and_dialogues(paragraph)]:\n",
    "        df_lines = df_lines._append(pd.Series(row, index=df_lines.columns), ignore_index=True)\n",
    "    pid_num += 1"
   ]
  },
  {
   "cell_type": "code",
   "execution_count": 88,
   "id": "5fcbc2f7-f4ec-4697-89c6-0aea916929c9",
   "metadata": {},
   "outputs": [
    {
     "data": {
      "text/html": [
       "<div>\n",
       "<style scoped>\n",
       "    .dataframe tbody tr th:only-of-type {\n",
       "        vertical-align: middle;\n",
       "    }\n",
       "\n",
       "    .dataframe tbody tr th {\n",
       "        vertical-align: top;\n",
       "    }\n",
       "\n",
       "    .dataframe thead th {\n",
       "        text-align: right;\n",
       "    }\n",
       "</style>\n",
       "<table border=\"1\" class=\"dataframe\">\n",
       "  <thead>\n",
       "    <tr style=\"text-align: right;\">\n",
       "      <th></th>\n",
       "      <th>pid</th>\n",
       "      <th>ndid</th>\n",
       "      <th>character</th>\n",
       "      <th>dialogue</th>\n",
       "      <th>narration</th>\n",
       "    </tr>\n",
       "  </thead>\n",
       "  <tbody>\n",
       "    <tr>\n",
       "      <th>0</th>\n",
       "      <td>0</td>\n",
       "      <td>0</td>\n",
       "      <td>None</td>\n",
       "      <td>None</td>\n",
       "      <td>Midnight in the heart of the city, the neon si...</td>\n",
       "    </tr>\n",
       "    <tr>\n",
       "      <th>1</th>\n",
       "      <td>1</td>\n",
       "      <td>0</td>\n",
       "      <td>None</td>\n",
       "      <td>None</td>\n",
       "      <td>The door creaked open, and a mysterious figure...</td>\n",
       "    </tr>\n",
       "    <tr>\n",
       "      <th>2</th>\n",
       "      <td>2</td>\n",
       "      <td>0</td>\n",
       "      <td>None</td>\n",
       "      <td>None</td>\n",
       "      <td>Alex raised an eyebrow.</td>\n",
       "    </tr>\n",
       "    <tr>\n",
       "      <th>3</th>\n",
       "      <td>2</td>\n",
       "      <td>1</td>\n",
       "      <td>None</td>\n",
       "      <td>Late night for a coffee, isn't it?</td>\n",
       "      <td>None</td>\n",
       "    </tr>\n",
       "    <tr>\n",
       "      <th>4</th>\n",
       "      <td>3</td>\n",
       "      <td>0</td>\n",
       "      <td>None</td>\n",
       "      <td>None</td>\n",
       "      <td>The stranger chuckled, a voice tinged with int...</td>\n",
       "    </tr>\n",
       "    <tr>\n",
       "      <th>5</th>\n",
       "      <td>3</td>\n",
       "      <td>1</td>\n",
       "      <td>None</td>\n",
       "      <td>Some stories unfold when the world sleeps.</td>\n",
       "      <td>None</td>\n",
       "    </tr>\n",
       "    <tr>\n",
       "      <th>6</th>\n",
       "      <td>4</td>\n",
       "      <td>0</td>\n",
       "      <td>None</td>\n",
       "      <td>None</td>\n",
       "      <td>Intrigued, Alex leaned forward.</td>\n",
       "    </tr>\n",
       "    <tr>\n",
       "      <th>7</th>\n",
       "      <td>4</td>\n",
       "      <td>1</td>\n",
       "      <td>None</td>\n",
       "      <td>What kind of stories?</td>\n",
       "      <td>None</td>\n",
       "    </tr>\n",
       "    <tr>\n",
       "      <th>8</th>\n",
       "      <td>5</td>\n",
       "      <td>0</td>\n",
       "      <td>None</td>\n",
       "      <td>Stories of the forgotten, the ones that only e...</td>\n",
       "      <td>None</td>\n",
       "    </tr>\n",
       "    <tr>\n",
       "      <th>9</th>\n",
       "      <td>5</td>\n",
       "      <td>1</td>\n",
       "      <td>None</td>\n",
       "      <td>None</td>\n",
       "      <td>the stranger replied mysteriously.</td>\n",
       "    </tr>\n",
       "    <tr>\n",
       "      <th>10</th>\n",
       "      <td>6</td>\n",
       "      <td>0</td>\n",
       "      <td>None</td>\n",
       "      <td>None</td>\n",
       "      <td>As the two continued to talk, a bond formed be...</td>\n",
       "    </tr>\n",
       "    <tr>\n",
       "      <th>11</th>\n",
       "      <td>7</td>\n",
       "      <td>0</td>\n",
       "      <td>None</td>\n",
       "      <td>None</td>\n",
       "      <td>You know,</td>\n",
       "    </tr>\n",
       "    <tr>\n",
       "      <th>12</th>\n",
       "      <td>7</td>\n",
       "      <td>1</td>\n",
       "      <td>None</td>\n",
       "      <td>Alex said,</td>\n",
       "      <td>None</td>\n",
       "    </tr>\n",
       "    <tr>\n",
       "      <th>13</th>\n",
       "      <td>7</td>\n",
       "      <td>2</td>\n",
       "      <td>None</td>\n",
       "      <td>this feels like a chapter from a novel. A meet...</td>\n",
       "      <td>None</td>\n",
       "    </tr>\n",
       "    <tr>\n",
       "      <th>14</th>\n",
       "      <td>8</td>\n",
       "      <td>0</td>\n",
       "      <td>None</td>\n",
       "      <td>None</td>\n",
       "      <td>The stranger smirked.</td>\n",
       "    </tr>\n",
       "    <tr>\n",
       "      <th>15</th>\n",
       "      <td>8</td>\n",
       "      <td>1</td>\n",
       "      <td>None</td>\n",
       "      <td>Perhaps it is. Life has a way of scripting its...</td>\n",
       "      <td>None</td>\n",
       "    </tr>\n",
       "    <tr>\n",
       "      <th>16</th>\n",
       "      <td>9</td>\n",
       "      <td>0</td>\n",
       "      <td>None</td>\n",
       "      <td>None</td>\n",
       "      <td>As the clock struck 3 AM, the stranger stood t...</td>\n",
       "    </tr>\n",
       "    <tr>\n",
       "      <th>17</th>\n",
       "      <td>9</td>\n",
       "      <td>1</td>\n",
       "      <td>None</td>\n",
       "      <td>Until our paths cross again, Alex.</td>\n",
       "      <td>None</td>\n",
       "    </tr>\n",
       "    <tr>\n",
       "      <th>18</th>\n",
       "      <td>10</td>\n",
       "      <td>0</td>\n",
       "      <td>None</td>\n",
       "      <td>None</td>\n",
       "      <td>And with that, they vanished into the night, l...</td>\n",
       "    </tr>\n",
       "    <tr>\n",
       "      <th>19</th>\n",
       "      <td>2</td>\n",
       "      <td>1</td>\n",
       "      <td>None</td>\n",
       "      <td>Late night for a coffee, isn't it?</td>\n",
       "      <td>None</td>\n",
       "    </tr>\n",
       "  </tbody>\n",
       "</table>\n",
       "</div>"
      ],
      "text/plain": [
       "   pid ndid character                                           dialogue  \\\n",
       "0    0    0      None                                               None   \n",
       "1    1    0      None                                               None   \n",
       "2    2    0      None                                               None   \n",
       "3    2    1      None                 Late night for a coffee, isn't it?   \n",
       "4    3    0      None                                               None   \n",
       "5    3    1      None         Some stories unfold when the world sleeps.   \n",
       "6    4    0      None                                               None   \n",
       "7    4    1      None                              What kind of stories?   \n",
       "8    5    0      None  Stories of the forgotten, the ones that only e...   \n",
       "9    5    1      None                                               None   \n",
       "10   6    0      None                                               None   \n",
       "11   7    0      None                                               None   \n",
       "12   7    1      None                                        Alex said,    \n",
       "13   7    2      None  this feels like a chapter from a novel. A meet...   \n",
       "14   8    0      None                                               None   \n",
       "15   8    1      None  Perhaps it is. Life has a way of scripting its...   \n",
       "16   9    0      None                                               None   \n",
       "17   9    1      None                 Until our paths cross again, Alex.   \n",
       "18  10    0      None                                               None   \n",
       "19   2    1      None                 Late night for a coffee, isn't it?   \n",
       "\n",
       "                                            narration  \n",
       "0   Midnight in the heart of the city, the neon si...  \n",
       "1   The door creaked open, and a mysterious figure...  \n",
       "2                            Alex raised an eyebrow.   \n",
       "3                                                None  \n",
       "4   The stranger chuckled, a voice tinged with int...  \n",
       "5                                                None  \n",
       "6                    Intrigued, Alex leaned forward.   \n",
       "7                                                None  \n",
       "8                                                None  \n",
       "9                  the stranger replied mysteriously.  \n",
       "10  As the two continued to talk, a bond formed be...  \n",
       "11                                          You know,  \n",
       "12                                               None  \n",
       "13                                               None  \n",
       "14                             The stranger smirked.   \n",
       "15                                               None  \n",
       "16  As the clock struck 3 AM, the stranger stood t...  \n",
       "17                                               None  \n",
       "18  And with that, they vanished into the night, l...  \n",
       "19                                               None  "
      ]
     },
     "execution_count": 88,
     "metadata": {},
     "output_type": "execute_result"
    }
   ],
   "source": [
    "# lines\n",
    "df_lines.head(20)"
   ]
  },
  {
   "cell_type": "markdown",
   "id": "2bde477c-1d1c-4968-b289-48fba5c8cf0f",
   "metadata": {},
   "source": [
    "# Dialogues Characters Correspondence"
   ]
  },
  {
   "cell_type": "code",
   "execution_count": 34,
   "id": "83b3f999-a9fa-482f-ad4e-509f8c981d55",
   "metadata": {},
   "outputs": [
    {
     "name": "stdout",
     "output_type": "stream",
     "text": [
      "Late night for a coffee, isn't it?\n",
      "Alex raised an eyebrow. \n",
      "===========================\n",
      "Some stories unfold when the world sleeps.\n",
      "The stranger chuckled, a voice tinged with intrigue. \n",
      "===========================\n",
      "What kind of stories?\n",
      "Intrigued, Alex leaned forward. \n",
      "===========================\n",
      "Stories of the forgotten, the ones that only emerge when the city is draped in silence,\n",
      " the stranger replied mysteriously.\n",
      "===========================\n",
      "You know,\n",
      "None\n",
      "===========================\n",
      " Alex said, \n",
      "None\n",
      "===========================\n",
      "this feels like a chapter from a novel. A meeting in the dead of night, sharing stories with a stranger.\n",
      "None\n",
      "===========================\n",
      "Perhaps it is. Life has a way of scripting its own narratives.\n",
      "The stranger smirked. \n",
      "===========================\n",
      "Until our paths cross again, Alex.\n",
      "As the clock struck 3 AM, the stranger stood to leave, their features still concealed by shadows. \n",
      "===========================\n"
     ]
    }
   ],
   "source": [
    "\n",
    "dlg_list = df_lines.index[df_lines['dialogue'].notna()].tolist()\n",
    "\n",
    "for dlgi in dlg_list:\n",
    "    print(df_lines.loc[dlgi, 'dialogue'])\n",
    "    if df_lines.loc[dlgi, 'dialogue'][-1] == ',':\n",
    "        print(df_lines.loc[dlgi+1, 'narration'])\n",
    "    else:\n",
    "        print(df_lines.loc[dlgi-1, 'narration'])\n",
    "    print(\"===========================\")"
   ]
  },
  {
   "cell_type": "markdown",
   "id": "86f5a68c-2349-485e-91e1-97cd60921aa7",
   "metadata": {},
   "source": [
    "# Audio Generation"
   ]
  },
  {
   "cell_type": "code",
   "execution_count": 18,
   "id": "2293d368-4d4a-4613-bdf8-64a3b8e6854d",
   "metadata": {},
   "outputs": [
    {
     "name": "stdout",
     "output_type": "stream",
     "text": [
      "Step 1: CONVERSIONS\n",
      "Line 1/19 converted.\n",
      "Line 2/19 converted.\n",
      "Line 3/19 converted.\n",
      "Line 4/19 converted.\n",
      "Line 5/19 converted.\n",
      "Line 6/19 converted.\n",
      "Line 7/19 converted.\n",
      "Line 8/19 converted.\n",
      "Line 9/19 converted.\n",
      "Line 10/19 converted.\n",
      "Line 11/19 converted.\n",
      "Line 12/19 converted.\n",
      "Line 13/19 converted.\n",
      "Line 14/19 converted.\n",
      "Line 15/19 converted.\n",
      "Line 16/19 converted.\n",
      "Line 17/19 converted.\n",
      "Line 18/19 converted.\n",
      "Line 19/19 converted.\n",
      "Conversions finished.\n"
     ]
    }
   ],
   "source": [
    "# creating audios\n",
    "print(\"Step 1: CONVERSIONS\")\n",
    "for index, row in df_lines.iterrows():\n",
    "    if row['dialogue'] is not None:\n",
    "        speech_gtts = gTTS(text=row['dialogue'], lang='en', slow=False, tld='co.in')\n",
    "    else:\n",
    "        speech_gtts = gTTS(text=row['narration'], lang='en', slow=False, tld='ie')\n",
    "    temp_file = f\"conversions/{index}.mp3\"\n",
    "    print(f\"Line {index+1}/{df_lines.shape[0]} converted.\")\n",
    "    speech_gtts.save(temp_file)\n",
    "print(\"Conversions finished.\")"
   ]
  },
  {
   "cell_type": "code",
   "execution_count": 19,
   "id": "cb7e927d-6822-4398-8733-4ef1a04c625b",
   "metadata": {},
   "outputs": [
    {
     "name": "stdout",
     "output_type": "stream",
     "text": [
      "Step 2: COMBINATION\n",
      "Combination finished.\n"
     ]
    }
   ],
   "source": [
    "# combining audios\n",
    "print(\"Step 2: COMBINATION\")\n",
    "clips = [AudioFileClip(f\"conversions/{i}.mp3\") for i in range(df_lines.shape[0])]\n",
    "final_clip = concatenate_audioclips(clips)\n",
    "print(\"Combination finished.\")"
   ]
  },
  {
   "cell_type": "code",
   "execution_count": 20,
   "id": "a41b7618-bf69-4599-afef-27abc652c41f",
   "metadata": {},
   "outputs": [
    {
     "name": "stdout",
     "output_type": "stream",
     "text": [
      "Step 3: ADJUSTMENT\n",
      "MoviePy - Writing audio in conversions/final_slow.mp3\n"
     ]
    },
    {
     "name": "stderr",
     "output_type": "stream",
     "text": [
      "                                                                                                                       \r"
     ]
    },
    {
     "name": "stdout",
     "output_type": "stream",
     "text": [
      "MoviePy - Done.\n",
      "final_slow.mp3 downloaded.\n",
      "Speeded over.\n"
     ]
    }
   ],
   "source": [
    "# adjust speed\n",
    "print(\"Step 3: ADJUSTMENT\")\n",
    "final_clip.write_audiofile(\"conversions/final_slow.mp3\")\n",
    "print(\"final_slow.mp3 downloaded.\")\n",
    "y, sr = librosa.load(\"conversions/final_slow.mp3\", sr=None)\n",
    "y_speed = librosa.effects.time_stretch(y, rate=1.25)\n",
    "print(\"Speeded over.\")"
   ]
  },
  {
   "cell_type": "code",
   "execution_count": 21,
   "id": "664227b9-240e-41cf-95ac-832ca3b91ca7",
   "metadata": {},
   "outputs": [
    {
     "name": "stdout",
     "output_type": "stream",
     "text": [
      "Step 4: REMOVAL\n",
      "Removed 0.mp3\n",
      "Removed 1.mp3\n",
      "Removed 2.mp3\n",
      "Removed 3.mp3\n",
      "Removed 4.mp3\n",
      "Removed 5.mp3\n",
      "Removed 6.mp3\n",
      "Removed 7.mp3\n",
      "Removed 8.mp3\n",
      "Removed 9.mp3\n",
      "Removed 10.mp3\n",
      "Removed 11.mp3\n",
      "Removed 12.mp3\n",
      "Removed 13.mp3\n",
      "Removed 14.mp3\n",
      "Removed 15.mp3\n",
      "Removed 16.mp3\n",
      "Removed 17.mp3\n",
      "Removed 18.mp3\n",
      "Removal over.\n"
     ]
    }
   ],
   "source": [
    "# removing audios\n",
    "print(\"Step 4: REMOVAL\")\n",
    "for i in range(df_lines.shape[0]):\n",
    "    os.remove(f\"conversions/{i}.mp3\")\n",
    "    print(f\"Removed {i}.mp3\")\n",
    "os.remove(\"conversions/final_slow.mp3\")\n",
    "print(\"Removal over.\")"
   ]
  },
  {
   "cell_type": "code",
   "execution_count": 22,
   "id": "665dd587-e7b8-4d10-beeb-41a3d3867374",
   "metadata": {},
   "outputs": [
    {
     "name": "stdout",
     "output_type": "stream",
     "text": [
      "Step 5: DOWNLOADING\n",
      "cafe_at_midnight.mp3 downloaded\n"
     ]
    }
   ],
   "source": [
    "# downloading final audio\n",
    "print(\"Step 5: DOWNLOADING\")\n",
    "final_title = title.replace(\" \", \"_\")\n",
    "sf.write(f\"audiobooks/{final_title}.mp3\", y_speed, sr)\n",
    "print(f\"{final_title}.mp3 downloaded\")"
   ]
  },
  {
   "cell_type": "code",
   "execution_count": null,
   "id": "b793686a-0276-48fb-be53-3ccd40ff0675",
   "metadata": {},
   "outputs": [],
   "source": []
  }
 ],
 "metadata": {
  "kernelspec": {
   "display_name": "Python 3 (ipykernel)",
   "language": "python",
   "name": "python3"
  },
  "language_info": {
   "codemirror_mode": {
    "name": "ipython",
    "version": 3
   },
   "file_extension": ".py",
   "mimetype": "text/x-python",
   "name": "python",
   "nbconvert_exporter": "python",
   "pygments_lexer": "ipython3",
   "version": "3.9.0"
  }
 },
 "nbformat": 4,
 "nbformat_minor": 5
}
